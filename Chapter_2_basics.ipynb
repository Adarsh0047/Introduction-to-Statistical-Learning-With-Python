{
 "cells": [
  {
   "cell_type": "markdown",
   "metadata": {},
   "source": [
    "# 2.3 Lab: Introduction to Python"
   ]
  },
  {
   "cell_type": "markdown",
   "metadata": {},
   "source": [
    "## 2.3.2 Basic Commands"
   ]
  },
  {
   "cell_type": "markdown",
   "metadata": {},
   "source": [
    "Python uses functions to perform operations"
   ]
  },
  {
   "cell_type": "code",
   "execution_count": 1,
   "metadata": {},
   "outputs": [
    {
     "name": "stdout",
     "output_type": "stream",
     "text": [
      "Hello 11 world\n"
     ]
    }
   ],
   "source": [
    "print(\"Hello\", 11, \"world\")"
   ]
  },
  {
   "cell_type": "code",
   "execution_count": 2,
   "metadata": {},
   "outputs": [
    {
     "name": "stdout",
     "output_type": "stream",
     "text": [
      "\u001b[0;31mSignature:\u001b[0m \u001b[0mprint\u001b[0m\u001b[0;34m(\u001b[0m\u001b[0;34m*\u001b[0m\u001b[0margs\u001b[0m\u001b[0;34m,\u001b[0m \u001b[0msep\u001b[0m\u001b[0;34m=\u001b[0m\u001b[0;34m' '\u001b[0m\u001b[0;34m,\u001b[0m \u001b[0mend\u001b[0m\u001b[0;34m=\u001b[0m\u001b[0;34m'\\n'\u001b[0m\u001b[0;34m,\u001b[0m \u001b[0mfile\u001b[0m\u001b[0;34m=\u001b[0m\u001b[0;32mNone\u001b[0m\u001b[0;34m,\u001b[0m \u001b[0mflush\u001b[0m\u001b[0;34m=\u001b[0m\u001b[0;32mFalse\u001b[0m\u001b[0;34m)\u001b[0m\u001b[0;34m\u001b[0m\u001b[0;34m\u001b[0m\u001b[0m\n",
      "\u001b[0;31mDocstring:\u001b[0m\n",
      "Prints the values to a stream, or to sys.stdout by default.\n",
      "\n",
      "sep\n",
      "  string inserted between values, default a space.\n",
      "end\n",
      "  string appended after the last value, default a newline.\n",
      "file\n",
      "  a file-like object (stream); defaults to the current sys.stdout.\n",
      "flush\n",
      "  whether to forcibly flush the stream.\n",
      "\u001b[0;31mType:\u001b[0m      builtin_function_or_method"
     ]
    }
   ],
   "source": [
    "print?"
   ]
  },
  {
   "cell_type": "code",
   "execution_count": 3,
   "metadata": {},
   "outputs": [
    {
     "data": {
      "text/plain": [
       "8"
      ]
     },
     "execution_count": 3,
     "metadata": {},
     "output_type": "execute_result"
    }
   ],
   "source": [
    "3 + 5"
   ]
  },
  {
   "cell_type": "markdown",
   "metadata": {},
   "source": [
    "### Adding two lists\n",
    "Adding two lists results in concatenation"
   ]
  },
  {
   "cell_type": "code",
   "execution_count": 5,
   "metadata": {},
   "outputs": [
    {
     "data": {
      "text/plain": [
       "[3, 4, 5]"
      ]
     },
     "execution_count": 5,
     "metadata": {},
     "output_type": "execute_result"
    }
   ],
   "source": [
    "x = [3, 4, 5]\n",
    "x"
   ]
  },
  {
   "cell_type": "code",
   "execution_count": 6,
   "metadata": {},
   "outputs": [
    {
     "data": {
      "text/plain": [
       "[6, 7, 8]"
      ]
     },
     "execution_count": 6,
     "metadata": {},
     "output_type": "execute_result"
    }
   ],
   "source": [
    "y = [6, 7, 8]\n",
    "y"
   ]
  },
  {
   "cell_type": "code",
   "execution_count": 7,
   "metadata": {},
   "outputs": [
    {
     "data": {
      "text/plain": [
       "[3, 4, 5, 6, 7, 8]"
      ]
     },
     "execution_count": 7,
     "metadata": {},
     "output_type": "execute_result"
    }
   ],
   "source": [
    "x + y"
   ]
  },
  {
   "cell_type": "markdown",
   "metadata": {},
   "source": [
    "## 2.3.3 Introduction to numerical python"
   ]
  },
  {
   "cell_type": "code",
   "execution_count": 2,
   "metadata": {},
   "outputs": [],
   "source": [
    "import numpy as np"
   ]
  },
  {
   "cell_type": "code",
   "execution_count": 3,
   "metadata": {},
   "outputs": [],
   "source": [
    "x = np.array([3, 4, 5])\n",
    "y = np.array([6, 7, 8])"
   ]
  },
  {
   "cell_type": "code",
   "execution_count": 4,
   "metadata": {},
   "outputs": [
    {
     "data": {
      "text/plain": [
       "array([ 9, 11, 13])"
      ]
     },
     "execution_count": 4,
     "metadata": {},
     "output_type": "execute_result"
    }
   ],
   "source": [
    "x + y"
   ]
  },
  {
   "cell_type": "code",
   "execution_count": 5,
   "metadata": {},
   "outputs": [
    {
     "data": {
      "text/plain": [
       "array([[1, 2],\n",
       "       [3, 4]])"
      ]
     },
     "execution_count": 5,
     "metadata": {},
     "output_type": "execute_result"
    }
   ],
   "source": [
    "x = np.array([[1, 2], [3, 4]])\n",
    "x"
   ]
  },
  {
   "cell_type": "markdown",
   "metadata": {},
   "source": [
    "The object `x` has several attributes or associated objects."
   ]
  },
  {
   "cell_type": "code",
   "execution_count": 6,
   "metadata": {},
   "outputs": [
    {
     "data": {
      "text/plain": [
       "dtype('int64')"
      ]
     },
     "execution_count": 6,
     "metadata": {},
     "output_type": "execute_result"
    }
   ],
   "source": [
    "x.dtype"
   ]
  },
  {
   "cell_type": "code",
   "execution_count": 7,
   "metadata": {},
   "outputs": [
    {
     "data": {
      "text/plain": [
       "dtype('float64')"
      ]
     },
     "execution_count": 7,
     "metadata": {},
     "output_type": "execute_result"
    }
   ],
   "source": [
    "np.array([[1, 2], [3.0, 4]]).dtype"
   ]
  },
  {
   "cell_type": "code",
   "execution_count": 8,
   "metadata": {},
   "outputs": [
    {
     "name": "stdout",
     "output_type": "stream",
     "text": [
      "\u001b[0;31mDocstring:\u001b[0m\n",
      "array(object, dtype=None, *, copy=True, order='K', subok=False, ndmin=0,\n",
      "      like=None)\n",
      "\n",
      "Create an array.\n",
      "\n",
      "Parameters\n",
      "----------\n",
      "object : array_like\n",
      "    An array, any object exposing the array interface, an object whose\n",
      "    ``__array__`` method returns an array, or any (nested) sequence.\n",
      "    If object is a scalar, a 0-dimensional array containing object is\n",
      "    returned.\n",
      "dtype : data-type, optional\n",
      "    The desired data-type for the array. If not given, NumPy will try to use\n",
      "    a default ``dtype`` that can represent the values (by applying promotion\n",
      "    rules when necessary.)\n",
      "copy : bool, optional\n",
      "    If true (default), then the object is copied.  Otherwise, a copy will\n",
      "    only be made if ``__array__`` returns a copy, if obj is a nested\n",
      "    sequence, or if a copy is needed to satisfy any of the other\n",
      "    requirements (``dtype``, ``order``, etc.).\n",
      "order : {'K', 'A', 'C', 'F'}, optional\n",
      "    Specify the memory layout of the array. If object is not an array, the\n",
      "    newly created array will be in C order (row major) unless 'F' is\n",
      "    specified, in which case it will be in Fortran order (column major).\n",
      "    If object is an array the following holds.\n",
      "\n",
      "    ===== ========= ===================================================\n",
      "    order  no copy                     copy=True\n",
      "    ===== ========= ===================================================\n",
      "    'K'   unchanged F & C order preserved, otherwise most similar order\n",
      "    'A'   unchanged F order if input is F and not C, otherwise C order\n",
      "    'C'   C order   C order\n",
      "    'F'   F order   F order\n",
      "    ===== ========= ===================================================\n",
      "\n",
      "    When ``copy=False`` and a copy is made for other reasons, the result is\n",
      "    the same as if ``copy=True``, with some exceptions for 'A', see the\n",
      "    Notes section. The default order is 'K'.\n",
      "subok : bool, optional\n",
      "    If True, then sub-classes will be passed-through, otherwise\n",
      "    the returned array will be forced to be a base-class array (default).\n",
      "ndmin : int, optional\n",
      "    Specifies the minimum number of dimensions that the resulting\n",
      "    array should have.  Ones will be prepended to the shape as\n",
      "    needed to meet this requirement.\n",
      "like : array_like, optional\n",
      "    Reference object to allow the creation of arrays which are not\n",
      "    NumPy arrays. If an array-like passed in as ``like`` supports\n",
      "    the ``__array_function__`` protocol, the result will be defined\n",
      "    by it. In this case, it ensures the creation of an array object\n",
      "    compatible with that passed in via this argument.\n",
      "\n",
      "    .. versionadded:: 1.20.0\n",
      "\n",
      "Returns\n",
      "-------\n",
      "out : ndarray\n",
      "    An array object satisfying the specified requirements.\n",
      "\n",
      "See Also\n",
      "--------\n",
      "empty_like : Return an empty array with shape and type of input.\n",
      "ones_like : Return an array of ones with shape and type of input.\n",
      "zeros_like : Return an array of zeros with shape and type of input.\n",
      "full_like : Return a new array with shape of input filled with value.\n",
      "empty : Return a new uninitialized array.\n",
      "ones : Return a new array setting values to one.\n",
      "zeros : Return a new array setting values to zero.\n",
      "full : Return a new array of given shape filled with value.\n",
      "\n",
      "\n",
      "Notes\n",
      "-----\n",
      "When order is 'A' and ``object`` is an array in neither 'C' nor 'F' order,\n",
      "and a copy is forced by a change in dtype, then the order of the result is\n",
      "not necessarily 'C' as expected. This is likely a bug.\n",
      "\n",
      "Examples\n",
      "--------\n",
      ">>> np.array([1, 2, 3])\n",
      "array([1, 2, 3])\n",
      "\n",
      "Upcasting:\n",
      "\n",
      ">>> np.array([1, 2, 3.0])\n",
      "array([ 1.,  2.,  3.])\n",
      "\n",
      "More than one dimension:\n",
      "\n",
      ">>> np.array([[1, 2], [3, 4]])\n",
      "array([[1, 2],\n",
      "       [3, 4]])\n",
      "\n",
      "Minimum dimensions 2:\n",
      "\n",
      ">>> np.array([1, 2, 3], ndmin=2)\n",
      "array([[1, 2, 3]])\n",
      "\n",
      "Type provided:\n",
      "\n",
      ">>> np.array([1, 2, 3], dtype=complex)\n",
      "array([ 1.+0.j,  2.+0.j,  3.+0.j])\n",
      "\n",
      "Data-type consisting of more than one element:\n",
      "\n",
      ">>> x = np.array([(1,2),(3,4)],dtype=[('a','<i4'),('b','<i4')])\n",
      ">>> x['a']\n",
      "array([1, 3])\n",
      "\n",
      "Creating an array from sub-classes:\n",
      "\n",
      ">>> np.array(np.mat('1 2; 3 4'))\n",
      "array([[1, 2],\n",
      "       [3, 4]])\n",
      "\n",
      ">>> np.array(np.mat('1 2; 3 4'), subok=True)\n",
      "matrix([[1, 2],\n",
      "        [3, 4]])\n",
      "\u001b[0;31mType:\u001b[0m      builtin_function_or_method"
     ]
    }
   ],
   "source": [
    "np.array?"
   ]
  },
  {
   "cell_type": "code",
   "execution_count": 9,
   "metadata": {},
   "outputs": [
    {
     "data": {
      "text/plain": [
       "dtype('float64')"
      ]
     },
     "execution_count": 9,
     "metadata": {},
     "output_type": "execute_result"
    }
   ],
   "source": [
    "np.array([[1, 2], [3, 4]], float).dtype"
   ]
  },
  {
   "cell_type": "code",
   "execution_count": 10,
   "metadata": {},
   "outputs": [
    {
     "data": {
      "text/plain": [
       "(2, 2)"
      ]
     },
     "execution_count": 10,
     "metadata": {},
     "output_type": "execute_result"
    }
   ],
   "source": [
    "x.shape"
   ]
  },
  {
   "cell_type": "code",
   "execution_count": 11,
   "metadata": {},
   "outputs": [
    {
     "data": {
      "text/plain": [
       "10"
      ]
     },
     "execution_count": 11,
     "metadata": {},
     "output_type": "execute_result"
    }
   ],
   "source": [
    "x = np.array([1, 2, 3, 4])\n",
    "x.sum()"
   ]
  },
  {
   "cell_type": "code",
   "execution_count": 12,
   "metadata": {},
   "outputs": [
    {
     "data": {
      "text/plain": [
       "10"
      ]
     },
     "execution_count": 12,
     "metadata": {},
     "output_type": "execute_result"
    }
   ],
   "source": [
    "np.sum(x)"
   ]
  },
  {
   "cell_type": "code",
   "execution_count": 13,
   "metadata": {},
   "outputs": [],
   "source": [
    "x = np.array([1, 2, 3, 4, 5, 6])\n",
    "x_reshape = x.reshape((2, 3))"
   ]
  },
  {
   "cell_type": "code",
   "execution_count": 14,
   "metadata": {},
   "outputs": [
    {
     "data": {
      "text/plain": [
       "array([1, 2, 3, 4, 5, 6])"
      ]
     },
     "execution_count": 14,
     "metadata": {},
     "output_type": "execute_result"
    }
   ],
   "source": [
    "x"
   ]
  },
  {
   "cell_type": "code",
   "execution_count": 15,
   "metadata": {},
   "outputs": [
    {
     "data": {
      "text/plain": [
       "array([[1, 2, 3],\n",
       "       [4, 5, 6]])"
      ]
     },
     "execution_count": 15,
     "metadata": {},
     "output_type": "execute_result"
    }
   ],
   "source": [
    "x_reshape"
   ]
  },
  {
   "cell_type": "code",
   "execution_count": 16,
   "metadata": {},
   "outputs": [
    {
     "data": {
      "text/plain": [
       "1"
      ]
     },
     "execution_count": 16,
     "metadata": {},
     "output_type": "execute_result"
    }
   ],
   "source": [
    "x_reshape[0, 0]"
   ]
  },
  {
   "cell_type": "code",
   "execution_count": 17,
   "metadata": {},
   "outputs": [
    {
     "data": {
      "text/plain": [
       "6"
      ]
     },
     "execution_count": 17,
     "metadata": {},
     "output_type": "execute_result"
    }
   ],
   "source": [
    "x_reshape[1, 2]"
   ]
  },
  {
   "cell_type": "code",
   "execution_count": 18,
   "metadata": {},
   "outputs": [],
   "source": [
    "x_reshape[0, 0] = 5"
   ]
  },
  {
   "cell_type": "code",
   "execution_count": 19,
   "metadata": {},
   "outputs": [
    {
     "data": {
      "text/plain": [
       "array([[5, 2, 3],\n",
       "       [4, 5, 6]])"
      ]
     },
     "execution_count": 19,
     "metadata": {},
     "output_type": "execute_result"
    }
   ],
   "source": [
    "x_reshape"
   ]
  },
  {
   "cell_type": "code",
   "execution_count": 20,
   "metadata": {},
   "outputs": [
    {
     "data": {
      "text/plain": [
       "array([5, 2, 3, 4, 5, 6])"
      ]
     },
     "execution_count": 20,
     "metadata": {},
     "output_type": "execute_result"
    }
   ],
   "source": [
    "x"
   ]
  },
  {
   "cell_type": "code",
   "execution_count": 21,
   "metadata": {},
   "outputs": [
    {
     "ename": "TypeError",
     "evalue": "'tuple' object does not support item assignment",
     "output_type": "error",
     "traceback": [
      "\u001b[0;31m---------------------------------------------------------------------------\u001b[0m",
      "\u001b[0;31mTypeError\u001b[0m                                 Traceback (most recent call last)",
      "\u001b[1;32m/home/adarsh/Workspace/Personal/ISLP/Introduction-to-Statistical-Learning-With-Python/Chapter_2_basics.ipynb Cell 32\u001b[0m line \u001b[0;36m2\n\u001b[1;32m      <a href='vscode-notebook-cell:/home/adarsh/Workspace/Personal/ISLP/Introduction-to-Statistical-Learning-With-Python/Chapter_2_basics.ipynb#X56sZmlsZQ%3D%3D?line=0'>1</a>\u001b[0m my_tuple \u001b[39m=\u001b[39m (\u001b[39m1\u001b[39m, \u001b[39m2\u001b[39m, \u001b[39m3\u001b[39m)\n\u001b[0;32m----> <a href='vscode-notebook-cell:/home/adarsh/Workspace/Personal/ISLP/Introduction-to-Statistical-Learning-With-Python/Chapter_2_basics.ipynb#X56sZmlsZQ%3D%3D?line=1'>2</a>\u001b[0m my_tuple[\u001b[39m0\u001b[39;49m] \u001b[39m=\u001b[39m \u001b[39m0\u001b[39m\n",
      "\u001b[0;31mTypeError\u001b[0m: 'tuple' object does not support item assignment"
     ]
    }
   ],
   "source": [
    "my_tuple = (1, 2, 3)\n",
    "my_tuple[0] = 0"
   ]
  },
  {
   "cell_type": "code",
   "execution_count": 22,
   "metadata": {},
   "outputs": [
    {
     "data": {
      "text/plain": [
       "((2, 3),\n",
       " 2,\n",
       " array([[5, 4],\n",
       "        [2, 5],\n",
       "        [3, 6]]))"
      ]
     },
     "execution_count": 22,
     "metadata": {},
     "output_type": "execute_result"
    }
   ],
   "source": [
    "x_reshape.shape, x_reshape.ndim, x_reshape.T"
   ]
  },
  {
   "cell_type": "code",
   "execution_count": 23,
   "metadata": {},
   "outputs": [
    {
     "data": {
      "text/plain": [
       "array([2.23606798, 1.41421356, 1.73205081, 2.        , 2.23606798,\n",
       "       2.44948974])"
      ]
     },
     "execution_count": 23,
     "metadata": {},
     "output_type": "execute_result"
    }
   ],
   "source": [
    "np.sqrt(x)"
   ]
  },
  {
   "cell_type": "code",
   "execution_count": 24,
   "metadata": {},
   "outputs": [
    {
     "data": {
      "text/plain": [
       "array([25,  4,  9, 16, 25, 36])"
      ]
     },
     "execution_count": 24,
     "metadata": {},
     "output_type": "execute_result"
    }
   ],
   "source": [
    "x ** 2"
   ]
  },
  {
   "cell_type": "code",
   "execution_count": 26,
   "metadata": {},
   "outputs": [
    {
     "data": {
      "text/plain": [
       "array([2.23606798, 1.41421356, 1.73205081, 2.        , 2.23606798,\n",
       "       2.44948974])"
      ]
     },
     "execution_count": 26,
     "metadata": {},
     "output_type": "execute_result"
    }
   ],
   "source": [
    "x ** 0.5"
   ]
  },
  {
   "cell_type": "code",
   "execution_count": 27,
   "metadata": {},
   "outputs": [
    {
     "data": {
      "text/plain": [
       "array([ 0.33001153,  1.66097134,  1.30007743,  0.74859017, -1.59381409,\n",
       "        1.40335892,  0.0407746 ,  1.17590416, -0.8293885 , -0.5971388 ,\n",
       "       -0.25207198, -0.07000144,  1.21030769,  2.26568785,  0.44874835,\n",
       "       -3.34131982, -0.53820424, -0.76341587,  0.36324755,  1.44025346,\n",
       "       -0.83436463, -0.97820144, -0.03389795, -0.6077975 ,  1.46947852,\n",
       "       -0.80007817, -0.81531032, -0.06482883, -1.02559847, -0.03362993,\n",
       "       -1.34059276, -0.29183991, -0.94801427, -1.09973097, -0.15614629,\n",
       "       -1.26079784,  0.76074262,  0.44423119, -1.04119331, -0.29186014,\n",
       "        1.4987388 ,  0.33830768, -0.22386319,  1.59322381, -1.69675021,\n",
       "        1.19507171, -0.09333368, -0.08904928,  1.85255731,  0.05444271])"
      ]
     },
     "execution_count": 27,
     "metadata": {},
     "output_type": "execute_result"
    }
   ],
   "source": [
    "x = np.random.normal(size=50)\n",
    "x"
   ]
  },
  {
   "cell_type": "code",
   "execution_count": 28,
   "metadata": {},
   "outputs": [],
   "source": [
    "y = x + np.random.normal(loc=50, scale=1, size = 50)"
   ]
  },
  {
   "cell_type": "markdown",
   "metadata": {},
   "source": [
    "`loc` is the mean of the distribtion, `scale` is the standard deviation"
   ]
  },
  {
   "cell_type": "code",
   "execution_count": 29,
   "metadata": {},
   "outputs": [
    {
     "name": "stdout",
     "output_type": "stream",
     "text": [
      "[9.75640933 6.62725575]\n",
      "[  4.41934978 -10.09225078]\n"
     ]
    }
   ],
   "source": [
    "print(np.random.normal(scale=5, size=2))\n",
    "print(np.random.normal(scale=5, size=2))"
   ]
  },
  {
   "cell_type": "markdown",
   "metadata": {},
   "source": [
    "We use `np.random.default_rng` to set the seeds "
   ]
  },
  {
   "cell_type": "code",
   "execution_count": 30,
   "metadata": {},
   "outputs": [
    {
     "name": "stdout",
     "output_type": "stream",
     "text": [
      "[ -3.9507625  -10.17312741]\n",
      "[ -3.9507625  -10.17312741]\n"
     ]
    }
   ],
   "source": [
    "rng = np.random.default_rng(101)\n",
    "print(rng.normal(scale=5, size=2))\n",
    "rng2 = np.random.default_rng(101)\n",
    "print(rng2.normal(scale=5, size=2))"
   ]
  },
  {
   "cell_type": "code",
   "execution_count": 31,
   "metadata": {},
   "outputs": [
    {
     "data": {
      "text/plain": [
       "(-0.1126795190952861, -0.1126795190952861)"
      ]
     },
     "execution_count": 31,
     "metadata": {},
     "output_type": "execute_result"
    }
   ],
   "source": [
    "rng = np.random.default_rng(3)\n",
    "y = rng.standard_normal(10)\n",
    "np.mean(y), y.mean()"
   ]
  },
  {
   "cell_type": "code",
   "execution_count": 32,
   "metadata": {},
   "outputs": [
    {
     "data": {
      "text/plain": [
       "2.7243406406465125"
      ]
     },
     "execution_count": 32,
     "metadata": {},
     "output_type": "execute_result"
    }
   ],
   "source": [
    "np.var(y)"
   ]
  },
  {
   "cell_type": "code",
   "execution_count": 33,
   "metadata": {},
   "outputs": [
    {
     "data": {
      "text/plain": [
       "array([[ 0.22578661, -0.35263079, -0.28128742],\n",
       "       [-0.66804635, -1.05515055, -0.39080098],\n",
       "       [ 0.48194539, -0.23855361,  0.9577587 ],\n",
       "       [-0.19980213,  0.02425957,  1.54582085],\n",
       "       [ 0.54510552, -0.50522874, -0.18283897],\n",
       "       [ 0.54052513,  1.93508803, -0.26962033],\n",
       "       [-0.24355868,  1.0023136 , -0.88645994],\n",
       "       [-0.29172023,  0.88253897,  0.58035002],\n",
       "       [ 0.0915167 ,  0.67010435, -2.82816231],\n",
       "       [ 1.02130682, -0.95964476, -1.66861984]])"
      ]
     },
     "execution_count": 33,
     "metadata": {},
     "output_type": "execute_result"
    }
   ],
   "source": [
    "X = rng.standard_normal((10, 3))\n",
    "X"
   ]
  },
  {
   "cell_type": "code",
   "execution_count": 34,
   "metadata": {},
   "outputs": [
    {
     "data": {
      "text/plain": [
       "array([ 0.15030588,  0.14030961, -0.34238602])"
      ]
     },
     "execution_count": 34,
     "metadata": {},
     "output_type": "execute_result"
    }
   ],
   "source": [
    "X.mean(axis=0)"
   ]
  },
  {
   "cell_type": "code",
   "execution_count": 35,
   "metadata": {},
   "outputs": [
    {
     "data": {
      "text/plain": [
       "array([ 0.15030588,  0.14030961, -0.34238602])"
      ]
     },
     "execution_count": 35,
     "metadata": {},
     "output_type": "execute_result"
    }
   ],
   "source": [
    "X.mean(0)"
   ]
  },
  {
   "cell_type": "code",
   "execution_count": null,
   "metadata": {},
   "outputs": [],
   "source": []
  }
 ],
 "metadata": {
  "kernelspec": {
   "display_name": "islp",
   "language": "python",
   "name": "python3"
  },
  "language_info": {
   "codemirror_mode": {
    "name": "ipython",
    "version": 3
   },
   "file_extension": ".py",
   "mimetype": "text/x-python",
   "name": "python",
   "nbconvert_exporter": "python",
   "pygments_lexer": "ipython3",
   "version": "3.12.0"
  }
 },
 "nbformat": 4,
 "nbformat_minor": 2
}
