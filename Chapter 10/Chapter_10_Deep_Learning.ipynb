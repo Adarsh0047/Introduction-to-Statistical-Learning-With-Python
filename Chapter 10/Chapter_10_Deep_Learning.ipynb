{
 "cells": [
  {
   "cell_type": "markdown",
   "metadata": {},
   "source": [
    "# 10.9 Lab: Deep Learning"
   ]
  },
  {
   "cell_type": "markdown",
   "metadata": {},
   "source": [
    "Imports"
   ]
  },
  {
   "cell_type": "code",
   "execution_count": 1,
   "metadata": {},
   "outputs": [],
   "source": [
    "import numpy as np, pandas as pd\n",
    "from matplotlib.pyplot import subplots\n",
    "from sklearn.linear_model import LinearRegression, LogisticRegression, Lasso\n",
    "from sklearn.preprocessing import StandardScaler\n",
    "from sklearn.model_selection import KFold\n",
    "from sklearn.pipeline import Pipeline\n",
    "from ISLP import load_data\n",
    "from ISLP.models import ModelSpec as MS\n",
    "from sklearn.model_selection import train_test_split, GridSearchCV"
   ]
  },
  {
   "cell_type": "code",
   "execution_count": 2,
   "metadata": {},
   "outputs": [],
   "source": [
    "import torch\n",
    "from torch import nn\n",
    "from torch.optim import RMSprop\n",
    "from torch.utils.data import TensorDataset"
   ]
  },
  {
   "cell_type": "code",
   "execution_count": 3,
   "metadata": {},
   "outputs": [],
   "source": [
    "from torchmetrics import MeanAbsoluteError, R2Score\n",
    "from torchinfo import summary\n",
    "from torchvision.io import read_image"
   ]
  },
  {
   "cell_type": "code",
   "execution_count": 4,
   "metadata": {},
   "outputs": [],
   "source": [
    "from pytorch_lightning import Trainer\n",
    "from pytorch_lightning.loggers import CSVLogger"
   ]
  },
  {
   "cell_type": "code",
   "execution_count": 5,
   "metadata": {},
   "outputs": [
    {
     "name": "stderr",
     "output_type": "stream",
     "text": [
      "Seed set to 0\n"
     ]
    },
    {
     "data": {
      "text/plain": [
       "0"
      ]
     },
     "execution_count": 5,
     "metadata": {},
     "output_type": "execute_result"
    }
   ],
   "source": [
    "# from pytorch_lightning.utilities.seed import seed_everything # OLD\n",
    "from lightning_fabric.fabric import seed_everything\n",
    "seed_everything(0, workers=True)\n",
    "# torch.use_deterministic_algorithms(mode=True, warn_only=True)"
   ]
  },
  {
   "cell_type": "code",
   "execution_count": 6,
   "metadata": {},
   "outputs": [],
   "source": [
    "from torchvision.datasets import MNIST, CIFAR100\n",
    "from torchvision.models import resnet50, ResNet50_Weights\n",
    "from torchvision.transforms import Resize, Normalize, CenterCrop, ToTensor"
   ]
  },
  {
   "cell_type": "code",
   "execution_count": 7,
   "metadata": {},
   "outputs": [],
   "source": [
    "from ISLP.torch import SimpleModule, SimpleDataModule, ErrorTracker, rec_num_workers"
   ]
  },
  {
   "cell_type": "code",
   "execution_count": 8,
   "metadata": {},
   "outputs": [],
   "source": [
    "from ISLP.torch.imdb import load_lookup, load_tensor, load_sparse, load_sequential"
   ]
  },
  {
   "cell_type": "code",
   "execution_count": 9,
   "metadata": {},
   "outputs": [],
   "source": [
    "from glob import glob\n",
    "import json"
   ]
  },
  {
   "cell_type": "markdown",
   "metadata": {},
   "source": [
    "## 10.9.1 Single Layer Network on Hitters Data"
   ]
  },
  {
   "cell_type": "code",
   "execution_count": 10,
   "metadata": {},
   "outputs": [],
   "source": [
    "Hitters = load_data(\"Hitters\").dropna()"
   ]
  },
  {
   "cell_type": "code",
   "execution_count": 11,
   "metadata": {},
   "outputs": [],
   "source": [
    "model = MS(Hitters.columns.drop(\"Salary\"), intercept=False)\n",
    "X = model.fit_transform(Hitters).to_numpy()\n",
    "Y = Hitters[\"Salary\"].to_numpy()"
   ]
  },
  {
   "cell_type": "code",
   "execution_count": 12,
   "metadata": {},
   "outputs": [],
   "source": [
    "X_train, X_test, y_train, y_test = train_test_split(X, Y,\n",
    "                                                    test_size=1/3, random_state=1)"
   ]
  },
  {
   "cell_type": "markdown",
   "metadata": {},
   "source": [
    "### Linear Models"
   ]
  },
  {
   "cell_type": "code",
   "execution_count": 13,
   "metadata": {},
   "outputs": [
    {
     "data": {
      "text/plain": [
       "259.7152883314631"
      ]
     },
     "execution_count": 13,
     "metadata": {},
     "output_type": "execute_result"
    }
   ],
   "source": [
    "hit_lm = LinearRegression().fit(X_train, y_train)\n",
    "Yhat_test = hit_lm.predict(X_test)\n",
    "np.abs(Yhat_test - y_test).mean()"
   ]
  },
  {
   "cell_type": "code",
   "execution_count": 14,
   "metadata": {},
   "outputs": [],
   "source": [
    "scaler = StandardScaler(with_mean=True, with_std=True)\n",
    "lasso = Lasso(warm_start=True, max_iter=30000)\n",
    "standard_lasso = Pipeline(steps=[(\"scaler\", scaler),\n",
    "                                 (\"lasso\", lasso)])"
   ]
  },
  {
   "cell_type": "code",
   "execution_count": 15,
   "metadata": {},
   "outputs": [],
   "source": [
    "X_s = scaler.fit_transform(X_train)\n",
    "n = X_s.shape[0]\n",
    "lam_max = np.fabs(X_s.T.dot(y_train - y_train.mean())).max() / n\n",
    "param_grid = {\"alpha\": np.exp(np.linspace(0, np.log(0.01), 100)) * lam_max}"
   ]
  },
  {
   "cell_type": "code",
   "execution_count": 16,
   "metadata": {},
   "outputs": [
    {
     "data": {
      "text/html": [
       "<style>#sk-container-id-1 {color: black;}#sk-container-id-1 pre{padding: 0;}#sk-container-id-1 div.sk-toggleable {background-color: white;}#sk-container-id-1 label.sk-toggleable__label {cursor: pointer;display: block;width: 100%;margin-bottom: 0;padding: 0.3em;box-sizing: border-box;text-align: center;}#sk-container-id-1 label.sk-toggleable__label-arrow:before {content: \"▸\";float: left;margin-right: 0.25em;color: #696969;}#sk-container-id-1 label.sk-toggleable__label-arrow:hover:before {color: black;}#sk-container-id-1 div.sk-estimator:hover label.sk-toggleable__label-arrow:before {color: black;}#sk-container-id-1 div.sk-toggleable__content {max-height: 0;max-width: 0;overflow: hidden;text-align: left;background-color: #f0f8ff;}#sk-container-id-1 div.sk-toggleable__content pre {margin: 0.2em;color: black;border-radius: 0.25em;background-color: #f0f8ff;}#sk-container-id-1 input.sk-toggleable__control:checked~div.sk-toggleable__content {max-height: 200px;max-width: 100%;overflow: auto;}#sk-container-id-1 input.sk-toggleable__control:checked~label.sk-toggleable__label-arrow:before {content: \"▾\";}#sk-container-id-1 div.sk-estimator input.sk-toggleable__control:checked~label.sk-toggleable__label {background-color: #d4ebff;}#sk-container-id-1 div.sk-label input.sk-toggleable__control:checked~label.sk-toggleable__label {background-color: #d4ebff;}#sk-container-id-1 input.sk-hidden--visually {border: 0;clip: rect(1px 1px 1px 1px);clip: rect(1px, 1px, 1px, 1px);height: 1px;margin: -1px;overflow: hidden;padding: 0;position: absolute;width: 1px;}#sk-container-id-1 div.sk-estimator {font-family: monospace;background-color: #f0f8ff;border: 1px dotted black;border-radius: 0.25em;box-sizing: border-box;margin-bottom: 0.5em;}#sk-container-id-1 div.sk-estimator:hover {background-color: #d4ebff;}#sk-container-id-1 div.sk-parallel-item::after {content: \"\";width: 100%;border-bottom: 1px solid gray;flex-grow: 1;}#sk-container-id-1 div.sk-label:hover label.sk-toggleable__label {background-color: #d4ebff;}#sk-container-id-1 div.sk-serial::before {content: \"\";position: absolute;border-left: 1px solid gray;box-sizing: border-box;top: 0;bottom: 0;left: 50%;z-index: 0;}#sk-container-id-1 div.sk-serial {display: flex;flex-direction: column;align-items: center;background-color: white;padding-right: 0.2em;padding-left: 0.2em;position: relative;}#sk-container-id-1 div.sk-item {position: relative;z-index: 1;}#sk-container-id-1 div.sk-parallel {display: flex;align-items: stretch;justify-content: center;background-color: white;position: relative;}#sk-container-id-1 div.sk-item::before, #sk-container-id-1 div.sk-parallel-item::before {content: \"\";position: absolute;border-left: 1px solid gray;box-sizing: border-box;top: 0;bottom: 0;left: 50%;z-index: -1;}#sk-container-id-1 div.sk-parallel-item {display: flex;flex-direction: column;z-index: 1;position: relative;background-color: white;}#sk-container-id-1 div.sk-parallel-item:first-child::after {align-self: flex-end;width: 50%;}#sk-container-id-1 div.sk-parallel-item:last-child::after {align-self: flex-start;width: 50%;}#sk-container-id-1 div.sk-parallel-item:only-child::after {width: 0;}#sk-container-id-1 div.sk-dashed-wrapped {border: 1px dashed gray;margin: 0 0.4em 0.5em 0.4em;box-sizing: border-box;padding-bottom: 0.4em;background-color: white;}#sk-container-id-1 div.sk-label label {font-family: monospace;font-weight: bold;display: inline-block;line-height: 1.2em;}#sk-container-id-1 div.sk-label-container {text-align: center;}#sk-container-id-1 div.sk-container {/* jupyter's `normalize.less` sets `[hidden] { display: none; }` but bootstrap.min.css set `[hidden] { display: none !important; }` so we also need the `!important` here to be able to override the default hidden behavior on the sphinx rendered scikit-learn.org. See: https://github.com/scikit-learn/scikit-learn/issues/21755 */display: inline-block !important;position: relative;}#sk-container-id-1 div.sk-text-repr-fallback {display: none;}</style><div id=\"sk-container-id-1\" class=\"sk-top-container\"><div class=\"sk-text-repr-fallback\"><pre>GridSearchCV(cv=KFold(n_splits=10, random_state=1, shuffle=True),\n",
       "             estimator=Lasso(max_iter=30000, warm_start=True),\n",
       "             param_grid={&#x27;alpha&#x27;: array([255.65755026, 244.03752004, 232.94563812, 222.35789935,\n",
       "       212.25138966, 202.60423642, 193.39556119, 184.60543446,\n",
       "       176.21483255, 168.20559645, 160.5603925 , 153.26267486,\n",
       "       146.29664975, 139.64724123, 133.3000586 , 127.24136521,\n",
       "       121.45...\n",
       "        10.81237873,  10.32093943,   9.8518368 ,   9.40405561,\n",
       "         8.97662677,   8.56862523,   8.17916799,   7.80741218,\n",
       "         7.45255325,   7.1138232 ,   6.79048896,   6.48185076,\n",
       "         6.18724064,   5.906021  ,   5.63758323,   5.38134637,\n",
       "         5.13675587,   4.90328239,   4.68042064,   4.4676883 ,\n",
       "         4.26462497,   4.07079118,   3.88576744,   3.70915331,\n",
       "         3.54056657,   3.37964236,   3.2260324 ,   3.07940424,\n",
       "         2.93944057,   2.80583846,   2.67830877,   2.5565755 ])},\n",
       "             scoring=&#x27;neg_mean_absolute_error&#x27;)</pre><b>In a Jupyter environment, please rerun this cell to show the HTML representation or trust the notebook. <br />On GitHub, the HTML representation is unable to render, please try loading this page with nbviewer.org.</b></div><div class=\"sk-container\" hidden><div class=\"sk-item sk-dashed-wrapped\"><div class=\"sk-label-container\"><div class=\"sk-label sk-toggleable\"><input class=\"sk-toggleable__control sk-hidden--visually\" id=\"sk-estimator-id-1\" type=\"checkbox\" ><label for=\"sk-estimator-id-1\" class=\"sk-toggleable__label sk-toggleable__label-arrow\">GridSearchCV</label><div class=\"sk-toggleable__content\"><pre>GridSearchCV(cv=KFold(n_splits=10, random_state=1, shuffle=True),\n",
       "             estimator=Lasso(max_iter=30000, warm_start=True),\n",
       "             param_grid={&#x27;alpha&#x27;: array([255.65755026, 244.03752004, 232.94563812, 222.35789935,\n",
       "       212.25138966, 202.60423642, 193.39556119, 184.60543446,\n",
       "       176.21483255, 168.20559645, 160.5603925 , 153.26267486,\n",
       "       146.29664975, 139.64724123, 133.3000586 , 127.24136521,\n",
       "       121.45...\n",
       "        10.81237873,  10.32093943,   9.8518368 ,   9.40405561,\n",
       "         8.97662677,   8.56862523,   8.17916799,   7.80741218,\n",
       "         7.45255325,   7.1138232 ,   6.79048896,   6.48185076,\n",
       "         6.18724064,   5.906021  ,   5.63758323,   5.38134637,\n",
       "         5.13675587,   4.90328239,   4.68042064,   4.4676883 ,\n",
       "         4.26462497,   4.07079118,   3.88576744,   3.70915331,\n",
       "         3.54056657,   3.37964236,   3.2260324 ,   3.07940424,\n",
       "         2.93944057,   2.80583846,   2.67830877,   2.5565755 ])},\n",
       "             scoring=&#x27;neg_mean_absolute_error&#x27;)</pre></div></div></div><div class=\"sk-parallel\"><div class=\"sk-parallel-item\"><div class=\"sk-item\"><div class=\"sk-label-container\"><div class=\"sk-label sk-toggleable\"><input class=\"sk-toggleable__control sk-hidden--visually\" id=\"sk-estimator-id-2\" type=\"checkbox\" ><label for=\"sk-estimator-id-2\" class=\"sk-toggleable__label sk-toggleable__label-arrow\">estimator: Lasso</label><div class=\"sk-toggleable__content\"><pre>Lasso(max_iter=30000, warm_start=True)</pre></div></div></div><div class=\"sk-serial\"><div class=\"sk-item\"><div class=\"sk-estimator sk-toggleable\"><input class=\"sk-toggleable__control sk-hidden--visually\" id=\"sk-estimator-id-3\" type=\"checkbox\" ><label for=\"sk-estimator-id-3\" class=\"sk-toggleable__label sk-toggleable__label-arrow\">Lasso</label><div class=\"sk-toggleable__content\"><pre>Lasso(max_iter=30000, warm_start=True)</pre></div></div></div></div></div></div></div></div></div></div>"
      ],
      "text/plain": [
       "GridSearchCV(cv=KFold(n_splits=10, random_state=1, shuffle=True),\n",
       "             estimator=Lasso(max_iter=30000, warm_start=True),\n",
       "             param_grid={'alpha': array([255.65755026, 244.03752004, 232.94563812, 222.35789935,\n",
       "       212.25138966, 202.60423642, 193.39556119, 184.60543446,\n",
       "       176.21483255, 168.20559645, 160.5603925 , 153.26267486,\n",
       "       146.29664975, 139.64724123, 133.3000586 , 127.24136521,\n",
       "       121.45...\n",
       "        10.81237873,  10.32093943,   9.8518368 ,   9.40405561,\n",
       "         8.97662677,   8.56862523,   8.17916799,   7.80741218,\n",
       "         7.45255325,   7.1138232 ,   6.79048896,   6.48185076,\n",
       "         6.18724064,   5.906021  ,   5.63758323,   5.38134637,\n",
       "         5.13675587,   4.90328239,   4.68042064,   4.4676883 ,\n",
       "         4.26462497,   4.07079118,   3.88576744,   3.70915331,\n",
       "         3.54056657,   3.37964236,   3.2260324 ,   3.07940424,\n",
       "         2.93944057,   2.80583846,   2.67830877,   2.5565755 ])},\n",
       "             scoring='neg_mean_absolute_error')"
      ]
     },
     "execution_count": 16,
     "metadata": {},
     "output_type": "execute_result"
    }
   ],
   "source": [
    "cv = KFold(10,\n",
    "           shuffle=True,\n",
    "           random_state=1)\n",
    "grid = GridSearchCV(lasso,\n",
    "                    param_grid,\n",
    "                    cv=cv,\n",
    "                    scoring=\"neg_mean_absolute_error\")\n",
    "grid.fit(X_train, y_train)"
   ]
  },
  {
   "cell_type": "code",
   "execution_count": 17,
   "metadata": {},
   "outputs": [
    {
     "data": {
      "text/plain": [
       "257.23820107995"
      ]
     },
     "execution_count": 17,
     "metadata": {},
     "output_type": "execute_result"
    }
   ],
   "source": [
    "trained_lasso = grid.best_estimator_\n",
    "Yhat_test = trained_lasso.predict(X_test)\n",
    "np.fabs(Yhat_test - y_test).mean()"
   ]
  },
  {
   "cell_type": "markdown",
   "metadata": {},
   "source": [
    "### Specifying a network: Classes and Inheritance"
   ]
  },
  {
   "cell_type": "code",
   "execution_count": 18,
   "metadata": {},
   "outputs": [],
   "source": [
    "class HittersModel(nn.Module):\n",
    "    def __init__(self, input_size):\n",
    "        super().__init__()\n",
    "        self.flatten = nn.Flatten()\n",
    "        self.sequential = nn.Sequential(\n",
    "            nn.Linear(input_size, 50),\n",
    "            nn.ReLU(),\n",
    "            nn.Dropout(0.4),\n",
    "            nn.Linear(50, 1)\n",
    "        )\n",
    "    def forward(self, x):\n",
    "        x = self.flatten(x)\n",
    "        return torch.flatten(self.sequential(x))"
   ]
  },
  {
   "cell_type": "code",
   "execution_count": 19,
   "metadata": {},
   "outputs": [],
   "source": [
    "hits_model = HittersModel(X.shape[1])"
   ]
  },
  {
   "cell_type": "code",
   "execution_count": 20,
   "metadata": {},
   "outputs": [
    {
     "data": {
      "text/plain": [
       "===================================================================================================================\n",
       "Layer (type:depth-idx)                   Input Shape               Output Shape              Param #\n",
       "===================================================================================================================\n",
       "HittersModel                             [175, 19]                 [175]                     --\n",
       "├─Flatten: 1-1                           [175, 19]                 [175, 19]                 --\n",
       "├─Sequential: 1-2                        [175, 19]                 [175, 1]                  --\n",
       "│    └─Linear: 2-1                       [175, 19]                 [175, 50]                 1,000\n",
       "│    └─ReLU: 2-2                         [175, 50]                 [175, 50]                 --\n",
       "│    └─Dropout: 2-3                      [175, 50]                 [175, 50]                 --\n",
       "│    └─Linear: 2-4                       [175, 50]                 [175, 1]                  51\n",
       "===================================================================================================================\n",
       "Total params: 1,051\n",
       "Trainable params: 1,051\n",
       "Non-trainable params: 0\n",
       "Total mult-adds (M): 0.18\n",
       "===================================================================================================================\n",
       "Input size (MB): 0.01\n",
       "Forward/backward pass size (MB): 0.07\n",
       "Params size (MB): 0.00\n",
       "Estimated Total Size (MB): 0.09\n",
       "==================================================================================================================="
      ]
     },
     "execution_count": 20,
     "metadata": {},
     "output_type": "execute_result"
    }
   ],
   "source": [
    "summary(hits_model,\n",
    "        input_size=X_train.shape,\n",
    "        col_names=[\"input_size\",\n",
    "                   \"output_size\",\n",
    "                   \"num_params\"])"
   ]
  },
  {
   "cell_type": "code",
   "execution_count": 21,
   "metadata": {},
   "outputs": [],
   "source": [
    "X_train_t = torch.tensor(X_train.astype(np.float32))\n",
    "y_train_t = torch.tensor(y_train.astype(np.float32))\n",
    "hit_train = TensorDataset(X_train_t, y_train_t)"
   ]
  },
  {
   "cell_type": "code",
   "execution_count": 22,
   "metadata": {},
   "outputs": [],
   "source": [
    "X_test_t = torch.tensor(X_test.astype(np.float32))\n",
    "y_test_t = torch.tensor(y_test.astype(np.float32))\n",
    "hit_test = TensorDataset(X_test_t, y_test_t)"
   ]
  },
  {
   "cell_type": "code",
   "execution_count": 23,
   "metadata": {},
   "outputs": [],
   "source": [
    "max_workers = rec_num_workers()"
   ]
  },
  {
   "cell_type": "code",
   "execution_count": 24,
   "metadata": {},
   "outputs": [],
   "source": [
    "hit_dm = SimpleDataModule(hit_train,\n",
    "                          hit_test,\n",
    "                          batch_size=32,\n",
    "                          num_workers=min(4, max_workers),\n",
    "                          validation=hit_test)"
   ]
  },
  {
   "cell_type": "code",
   "execution_count": 25,
   "metadata": {},
   "outputs": [],
   "source": [
    "hit_module = SimpleModule.regression(hits_model,\n",
    "                                     metrics={\"mae\":MeanAbsoluteError()})"
   ]
  },
  {
   "cell_type": "code",
   "execution_count": 26,
   "metadata": {},
   "outputs": [],
   "source": [
    "hit_logger = CSVLogger(\"logs\", name=\"hitters\")"
   ]
  },
  {
   "cell_type": "code",
   "execution_count": 27,
   "metadata": {},
   "outputs": [
    {
     "name": "stderr",
     "output_type": "stream",
     "text": [
      "GPU available: True (cuda), used: True\n",
      "TPU available: False, using: 0 TPU cores\n",
      "IPU available: False, using: 0 IPUs\n",
      "HPU available: False, using: 0 HPUs\n",
      "LOCAL_RANK: 0 - CUDA_VISIBLE_DEVICES: [0]\n",
      "\n",
      "  | Name  | Type         | Params\n",
      "---------------------------------------\n",
      "0 | model | HittersModel | 1.1 K \n",
      "1 | loss  | MSELoss      | 0     \n",
      "---------------------------------------\n",
      "1.1 K     Trainable params\n",
      "0         Non-trainable params\n",
      "1.1 K     Total params\n",
      "0.004     Total estimated model params size (MB)\n"
     ]
    },
    {
     "name": "stdout",
     "output_type": "stream",
     "text": [
      "Sanity Checking: |          | 0/? [00:00<?, ?it/s]"
     ]
    },
    {
     "name": "stdout",
     "output_type": "stream",
     "text": [
      "Epoch 49: 100%|██████████| 6/6 [00:00<00:00, 51.65it/s, v_num=5]            "
     ]
    },
    {
     "name": "stderr",
     "output_type": "stream",
     "text": [
      "`Trainer.fit` stopped: `max_epochs=50` reached.\n"
     ]
    },
    {
     "name": "stdout",
     "output_type": "stream",
     "text": [
      "Epoch 49: 100%|██████████| 6/6 [00:00<00:00, 46.93it/s, v_num=5]\n"
     ]
    }
   ],
   "source": [
    "hit_trainer = Trainer(max_epochs=50,\n",
    "                      log_every_n_steps=5,\n",
    "                      logger=hit_logger,\n",
    "                      callbacks=[ErrorTracker()])\n",
    "hit_trainer.fit(hit_module, datamodule=hit_dm)"
   ]
  },
  {
   "cell_type": "code",
   "execution_count": 28,
   "metadata": {},
   "outputs": [
    {
     "name": "stderr",
     "output_type": "stream",
     "text": [
      "LOCAL_RANK: 0 - CUDA_VISIBLE_DEVICES: [0]\n"
     ]
    },
    {
     "name": "stdout",
     "output_type": "stream",
     "text": [
      "Testing DataLoader 0: 100%|██████████| 3/3 [00:00<00:00, 205.61it/s]\n",
      "────────────────────────────────────────────────────────────────────────────────────────────────────────────────────────\n",
      "       Test metric             DataLoader 0\n",
      "────────────────────────────────────────────────────────────────────────────────────────────────────────────────────────\n",
      "        test_loss               123543.3125\n",
      "        test_mae            248.27792358398438\n",
      "────────────────────────────────────────────────────────────────────────────────────────────────────────────────────────\n"
     ]
    },
    {
     "data": {
      "text/plain": [
       "[{'test_loss': 123543.3125, 'test_mae': 248.27792358398438}]"
      ]
     },
     "execution_count": 28,
     "metadata": {},
     "output_type": "execute_result"
    }
   ],
   "source": [
    "hit_trainer.test(hit_module, datamodule=hit_dm)"
   ]
  },
  {
   "cell_type": "code",
   "execution_count": 29,
   "metadata": {},
   "outputs": [],
   "source": [
    "hit_results = pd.read_csv(hit_logger.experiment.metrics_file_path)"
   ]
  },
  {
   "cell_type": "code",
   "execution_count": 30,
   "metadata": {},
   "outputs": [
    {
     "data": {
      "text/html": [
       "<div>\n",
       "<style scoped>\n",
       "    .dataframe tbody tr th:only-of-type {\n",
       "        vertical-align: middle;\n",
       "    }\n",
       "\n",
       "    .dataframe tbody tr th {\n",
       "        vertical-align: top;\n",
       "    }\n",
       "\n",
       "    .dataframe thead th {\n",
       "        text-align: right;\n",
       "    }\n",
       "</style>\n",
       "<table border=\"1\" class=\"dataframe\">\n",
       "  <thead>\n",
       "    <tr style=\"text-align: right;\">\n",
       "      <th></th>\n",
       "      <th>train_mae_step</th>\n",
       "      <th>epoch</th>\n",
       "      <th>step</th>\n",
       "      <th>valid_loss</th>\n",
       "      <th>valid_mae</th>\n",
       "      <th>train_mae_epoch</th>\n",
       "      <th>train_loss</th>\n",
       "      <th>test_mae</th>\n",
       "      <th>test_loss</th>\n",
       "    </tr>\n",
       "  </thead>\n",
       "  <tbody>\n",
       "    <tr>\n",
       "      <th>0</th>\n",
       "      <td>331.035126</td>\n",
       "      <td>0</td>\n",
       "      <td>4</td>\n",
       "      <td>NaN</td>\n",
       "      <td>NaN</td>\n",
       "      <td>NaN</td>\n",
       "      <td>NaN</td>\n",
       "      <td>NaN</td>\n",
       "      <td>NaN</td>\n",
       "    </tr>\n",
       "    <tr>\n",
       "      <th>1</th>\n",
       "      <td>NaN</td>\n",
       "      <td>0</td>\n",
       "      <td>5</td>\n",
       "      <td>143938.828125</td>\n",
       "      <td>237.721832</td>\n",
       "      <td>NaN</td>\n",
       "      <td>NaN</td>\n",
       "      <td>NaN</td>\n",
       "      <td>NaN</td>\n",
       "    </tr>\n",
       "    <tr>\n",
       "      <th>2</th>\n",
       "      <td>NaN</td>\n",
       "      <td>0</td>\n",
       "      <td>5</td>\n",
       "      <td>NaN</td>\n",
       "      <td>NaN</td>\n",
       "      <td>552.164978</td>\n",
       "      <td>811154.375000</td>\n",
       "      <td>NaN</td>\n",
       "      <td>NaN</td>\n",
       "    </tr>\n",
       "    <tr>\n",
       "      <th>3</th>\n",
       "      <td>228.919968</td>\n",
       "      <td>1</td>\n",
       "      <td>9</td>\n",
       "      <td>NaN</td>\n",
       "      <td>NaN</td>\n",
       "      <td>NaN</td>\n",
       "      <td>NaN</td>\n",
       "      <td>NaN</td>\n",
       "      <td>NaN</td>\n",
       "    </tr>\n",
       "    <tr>\n",
       "      <th>4</th>\n",
       "      <td>NaN</td>\n",
       "      <td>1</td>\n",
       "      <td>11</td>\n",
       "      <td>140019.484375</td>\n",
       "      <td>239.368225</td>\n",
       "      <td>NaN</td>\n",
       "      <td>NaN</td>\n",
       "      <td>NaN</td>\n",
       "      <td>NaN</td>\n",
       "    </tr>\n",
       "    <tr>\n",
       "      <th>...</th>\n",
       "      <td>...</td>\n",
       "      <td>...</td>\n",
       "      <td>...</td>\n",
       "      <td>...</td>\n",
       "      <td>...</td>\n",
       "      <td>...</td>\n",
       "      <td>...</td>\n",
       "      <td>...</td>\n",
       "      <td>...</td>\n",
       "    </tr>\n",
       "    <tr>\n",
       "      <th>156</th>\n",
       "      <td>265.289673</td>\n",
       "      <td>49</td>\n",
       "      <td>294</td>\n",
       "      <td>NaN</td>\n",
       "      <td>NaN</td>\n",
       "      <td>NaN</td>\n",
       "      <td>NaN</td>\n",
       "      <td>NaN</td>\n",
       "      <td>NaN</td>\n",
       "    </tr>\n",
       "    <tr>\n",
       "      <th>157</th>\n",
       "      <td>210.600296</td>\n",
       "      <td>49</td>\n",
       "      <td>299</td>\n",
       "      <td>NaN</td>\n",
       "      <td>NaN</td>\n",
       "      <td>NaN</td>\n",
       "      <td>NaN</td>\n",
       "      <td>NaN</td>\n",
       "      <td>NaN</td>\n",
       "    </tr>\n",
       "    <tr>\n",
       "      <th>158</th>\n",
       "      <td>NaN</td>\n",
       "      <td>49</td>\n",
       "      <td>299</td>\n",
       "      <td>123543.312500</td>\n",
       "      <td>248.277924</td>\n",
       "      <td>NaN</td>\n",
       "      <td>NaN</td>\n",
       "      <td>NaN</td>\n",
       "      <td>NaN</td>\n",
       "    </tr>\n",
       "    <tr>\n",
       "      <th>159</th>\n",
       "      <td>NaN</td>\n",
       "      <td>49</td>\n",
       "      <td>299</td>\n",
       "      <td>NaN</td>\n",
       "      <td>NaN</td>\n",
       "      <td>252.673508</td>\n",
       "      <td>137719.765625</td>\n",
       "      <td>NaN</td>\n",
       "      <td>NaN</td>\n",
       "    </tr>\n",
       "    <tr>\n",
       "      <th>160</th>\n",
       "      <td>NaN</td>\n",
       "      <td>50</td>\n",
       "      <td>300</td>\n",
       "      <td>NaN</td>\n",
       "      <td>NaN</td>\n",
       "      <td>NaN</td>\n",
       "      <td>NaN</td>\n",
       "      <td>248.277924</td>\n",
       "      <td>123543.3125</td>\n",
       "    </tr>\n",
       "  </tbody>\n",
       "</table>\n",
       "<p>161 rows × 9 columns</p>\n",
       "</div>"
      ],
      "text/plain": [
       "     train_mae_step  epoch  step     valid_loss   valid_mae  train_mae_epoch  \\\n",
       "0        331.035126      0     4            NaN         NaN              NaN   \n",
       "1               NaN      0     5  143938.828125  237.721832              NaN   \n",
       "2               NaN      0     5            NaN         NaN       552.164978   \n",
       "3        228.919968      1     9            NaN         NaN              NaN   \n",
       "4               NaN      1    11  140019.484375  239.368225              NaN   \n",
       "..              ...    ...   ...            ...         ...              ...   \n",
       "156      265.289673     49   294            NaN         NaN              NaN   \n",
       "157      210.600296     49   299            NaN         NaN              NaN   \n",
       "158             NaN     49   299  123543.312500  248.277924              NaN   \n",
       "159             NaN     49   299            NaN         NaN       252.673508   \n",
       "160             NaN     50   300            NaN         NaN              NaN   \n",
       "\n",
       "        train_loss    test_mae    test_loss  \n",
       "0              NaN         NaN          NaN  \n",
       "1              NaN         NaN          NaN  \n",
       "2    811154.375000         NaN          NaN  \n",
       "3              NaN         NaN          NaN  \n",
       "4              NaN         NaN          NaN  \n",
       "..             ...         ...          ...  \n",
       "156            NaN         NaN          NaN  \n",
       "157            NaN         NaN          NaN  \n",
       "158            NaN         NaN          NaN  \n",
       "159  137719.765625         NaN          NaN  \n",
       "160            NaN  248.277924  123543.3125  \n",
       "\n",
       "[161 rows x 9 columns]"
      ]
     },
     "execution_count": 30,
     "metadata": {},
     "output_type": "execute_result"
    }
   ],
   "source": [
    "hit_results"
   ]
  },
  {
   "cell_type": "code",
   "execution_count": 31,
   "metadata": {},
   "outputs": [],
   "source": [
    "def summary_plot(results,\n",
    "                 ax,\n",
    "                 col=\"loss\",\n",
    "                 valid_legend=\"Validation\",\n",
    "                 training_legend=\"Training\",\n",
    "                 ylabel=\"Loss\",\n",
    "                 fontsize=20):\n",
    "   for (column, \n",
    "         color,\n",
    "         label) in zip([f\"train_{col}_epoch\",\n",
    "                        f\"valid_{col}\"],\n",
    "                        [\"black\",\n",
    "                         \"red\"],\n",
    "                         [training_legend,\n",
    "                          valid_legend]):\n",
    "        results.plot(x=\"epoch\",\n",
    "                     y=column,\n",
    "                     label=label,\n",
    "                     marker=\"o\",\n",
    "                     color=color,\n",
    "                     ax=ax)\n",
    "        ax.set_xlabel(\"Epoch\")\n",
    "        ax.set_ylabel(ylabel)\n",
    "   return ax"
   ]
  },
  {
   "cell_type": "code",
   "execution_count": 32,
   "metadata": {},
   "outputs": [
    {
     "data": {
      "image/png": "[encoded data removed]",
      "text/plain": [
       "<Figure size 600x600 with 1 Axes>"
      ]
     },
     "metadata": {},
     "output_type": "display_data"
    }
   ],
   "source": [
    "fig, ax = subplots(1, 1, figsize=(6, 6))\n",
    "ax = summary_plot(hit_results,\n",
    "                  ax,\n",
    "                  col=\"mae\",\n",
    "                  ylabel=\"MAE\",\n",
    "                  valid_legend=\"Validation (=Test)\")\n",
    "ax.set_ylim([0, 400])\n",
    "ax.set_xticks(np.linspace(0, 50, 11).astype(int));"
   ]
  },
  {
   "cell_type": "code",
   "execution_count": 33,
   "metadata": {},
   "outputs": [
    {
     "data": {
      "text/plain": [
       "tensor(248.2779, grad_fn=<MeanBackward0>)"
      ]
     },
     "execution_count": 33,
     "metadata": {},
     "output_type": "execute_result"
    }
   ],
   "source": [
    "hits_model.eval()\n",
    "preds = hit_module(X_test_t)\n",
    "torch.abs(y_test_t - preds).mean()"
   ]
  },
  {
   "cell_type": "markdown",
   "metadata": {},
   "source": [
    "### Cleanup"
   ]
  },
  {
   "cell_type": "code",
   "execution_count": 34,
   "metadata": {},
   "outputs": [],
   "source": [
    "del(Hitters,\n",
    "    hits_model, hit_dm,\n",
    "    hit_logger,\n",
    "    hit_test, hit_train,\n",
    "    X, Y,\n",
    "    X_test, X_train,\n",
    "    y_test, y_train,\n",
    "    X_test_t, y_test_t,\n",
    "    hit_trainer, hit_module)"
   ]
  },
  {
   "cell_type": "markdown",
   "metadata": {},
   "source": [
    "## 10.9.2 Multilayer Network on MNIST Digit Data"
   ]
  },
  {
   "cell_type": "code",
   "execution_count": 35,
   "metadata": {},
   "outputs": [
    {
     "data": {
      "text/plain": [
       "Dataset MNIST\n",
       "    Number of datapoints: 60000\n",
       "    Root location: data\n",
       "    Split: Train\n",
       "    StandardTransform\n",
       "Transform: ToTensor()"
      ]
     },
     "execution_count": 35,
     "metadata": {},
     "output_type": "execute_result"
    }
   ],
   "source": [
    "(mnist_train,\n",
    " mnist_test) = [MNIST(root=\"data\",\n",
    "                      train=train,\n",
    "                      download=True,\n",
    "                      transform=ToTensor()) \n",
    "                      for train in [True, False]]\n",
    "mnist_train"
   ]
  },
  {
   "cell_type": "code",
   "execution_count": 36,
   "metadata": {},
   "outputs": [],
   "source": [
    "mnist_dm = SimpleDataModule(mnist_train,\n",
    "                            mnist_test,\n",
    "                            validation=0.2,\n",
    "                            num_workers=max_workers,\n",
    "                            batch_size=256)"
   ]
  },
  {
   "cell_type": "code",
   "execution_count": 37,
   "metadata": {},
   "outputs": [
    {
     "name": "stdout",
     "output_type": "stream",
     "text": [
      "X:  torch.Size([256, 1, 28, 28])\n",
      "Y:  torch.Size([256])\n",
      "X:  torch.Size([256, 1, 28, 28])\n",
      "Y:  torch.Size([256])\n"
     ]
    }
   ],
   "source": [
    "for idx, (X_, Y_) in enumerate(mnist_dm.train_dataloader()):\n",
    "    print(\"X: \", X_.shape)\n",
    "    print(\"Y: \", Y_.shape)\n",
    "    if idx >= 1:\n",
    "        break"
   ]
  },
  {
   "cell_type": "code",
   "execution_count": 38,
   "metadata": {},
   "outputs": [],
   "source": [
    "class MNISTModel(nn.Module):\n",
    "    def __init__(self):\n",
    "        super().__init__()\n",
    "        self.layer1 = nn.Sequential(\n",
    "            nn.Flatten(),\n",
    "            nn.Linear(28*28, 256),\n",
    "            nn.ReLU(),\n",
    "            nn.Dropout(0.4)\n",
    "        )\n",
    "        self.layer2 = nn.Sequential(\n",
    "            nn.Linear(256, 128),\n",
    "            nn.ReLU(),\n",
    "            nn.Dropout(0.3)\n",
    "        )\n",
    "        self._forward = nn.Sequential(\n",
    "            self.layer1,\n",
    "            self.layer2,\n",
    "            nn.Linear(128, 10)\n",
    "        )\n",
    "    def forward(self, x):\n",
    "        return self._forward(x)"
   ]
  },
  {
   "cell_type": "code",
   "execution_count": 39,
   "metadata": {},
   "outputs": [],
   "source": [
    "mnist_model = MNISTModel()"
   ]
  },
  {
   "cell_type": "code",
   "execution_count": 40,
   "metadata": {},
   "outputs": [
    {
     "data": {
      "text/plain": [
       "torch.Size([256, 10])"
      ]
     },
     "execution_count": 40,
     "metadata": {},
     "output_type": "execute_result"
    }
   ],
   "source": [
    "mnist_model(X_).size()"
   ]
  },
  {
   "cell_type": "code",
   "execution_count": 41,
   "metadata": {},
   "outputs": [
    {
     "data": {
      "text/plain": [
       "===================================================================================================================\n",
       "Layer (type:depth-idx)                   Input Shape               Output Shape              Param #\n",
       "===================================================================================================================\n",
       "MNISTModel                               [256, 1, 28, 28]          [256, 10]                 --\n",
       "├─Sequential: 1-1                        [256, 1, 28, 28]          [256, 10]                 --\n",
       "│    └─Sequential: 2-1                   [256, 1, 28, 28]          [256, 256]                --\n",
       "│    │    └─Flatten: 3-1                 [256, 1, 28, 28]          [256, 784]                --\n",
       "│    │    └─Linear: 3-2                  [256, 784]                [256, 256]                200,960\n",
       "│    │    └─ReLU: 3-3                    [256, 256]                [256, 256]                --\n",
       "│    │    └─Dropout: 3-4                 [256, 256]                [256, 256]                --\n",
       "│    └─Sequential: 2-2                   [256, 256]                [256, 128]                --\n",
       "│    │    └─Linear: 3-5                  [256, 256]                [256, 128]                32,896\n",
       "│    │    └─ReLU: 3-6                    [256, 128]                [256, 128]                --\n",
       "│    │    └─Dropout: 3-7                 [256, 128]                [256, 128]                --\n",
       "│    └─Linear: 2-3                       [256, 128]                [256, 10]                 1,290\n",
       "===================================================================================================================\n",
       "Total params: 235,146\n",
       "Trainable params: 235,146\n",
       "Non-trainable params: 0\n",
       "Total mult-adds (M): 60.20\n",
       "===================================================================================================================\n",
       "Input size (MB): 0.80\n",
       "Forward/backward pass size (MB): 0.81\n",
       "Params size (MB): 0.94\n",
       "Estimated Total Size (MB): 2.55\n",
       "==================================================================================================================="
      ]
     },
     "execution_count": 41,
     "metadata": {},
     "output_type": "execute_result"
    }
   ],
   "source": [
    "summary(mnist_model,\n",
    "        input_data=X_,\n",
    "        col_names=[\"input_size\",\n",
    "                   \"output_size\",\n",
    "                   \"num_params\"])"
   ]
  },
  {
   "cell_type": "code",
   "execution_count": 42,
   "metadata": {},
   "outputs": [],
   "source": [
    "mnist_module = SimpleModule.classification(mnist_model, num_classes=10)\n",
    "mnist_logger = CSVLogger(\"logs\", name=\"MNIST\")"
   ]
  },
  {
   "cell_type": "code",
   "execution_count": 43,
   "metadata": {},
   "outputs": [
    {
     "name": "stderr",
     "output_type": "stream",
     "text": [
      "GPU available: True (cuda), used: True\n",
      "TPU available: False, using: 0 TPU cores\n",
      "IPU available: False, using: 0 IPUs\n",
      "HPU available: False, using: 0 HPUs\n",
      "LOCAL_RANK: 0 - CUDA_VISIBLE_DEVICES: [0]\n",
      "\n",
      "  | Name  | Type             | Params\n",
      "-------------------------------------------\n",
      "0 | model | MNISTModel       | 235 K \n",
      "1 | loss  | CrossEntropyLoss | 0     \n",
      "-------------------------------------------\n",
      "235 K     Trainable params\n",
      "0         Non-trainable params\n",
      "235 K     Total params\n",
      "0.941     Total estimated model params size (MB)\n"
     ]
    },
    {
     "name": "stdout",
     "output_type": "stream",
     "text": [
      "Sanity Checking: |          | 0/? [00:00<?, ?it/s]"
     ]
    },
    {
     "name": "stdout",
     "output_type": "stream",
     "text": [
      "Epoch 29: 100%|██████████| 188/188 [00:02<00:00, 74.76it/s, v_num=4]        "
     ]
    },
    {
     "name": "stderr",
     "output_type": "stream",
     "text": [
      "`Trainer.fit` stopped: `max_epochs=30` reached.\n"
     ]
    },
    {
     "name": "stdout",
     "output_type": "stream",
     "text": [
      "Epoch 29: 100%|██████████| 188/188 [00:02<00:00, 74.39it/s, v_num=4]\n"
     ]
    }
   ],
   "source": [
    "mnist_trainer = Trainer(max_epochs=30,\n",
    "                        logger=mnist_logger,\n",
    "                        callbacks=[ErrorTracker()])\n",
    "mnist_trainer.fit(mnist_module,\n",
    "                  datamodule=mnist_dm)"
   ]
  },
  {
   "cell_type": "code",
   "execution_count": 44,
   "metadata": {},
   "outputs": [
    {
     "data": {
      "image/png": "[encoded data removed]",
      "text/plain": [
       "<Figure size 600x600 with 1 Axes>"
      ]
     },
     "metadata": {},
     "output_type": "display_data"
    }
   ],
   "source": [
    "mnist_results = pd.read_csv(mnist_logger.experiment.metrics_file_path)\n",
    "fig, ax = subplots(1, 1, figsize=(6, 6))\n",
    "summary_plot(mnist_results,\n",
    "             ax,\n",
    "             col=\"accuracy\",\n",
    "             ylabel=\"Accuracy\")\n",
    "ax.set_ylim([0.5, 1])\n",
    "ax.set_ylabel(\"Accuracy\")\n",
    "ax.set_xticks(np.linspace(0, 30, 7).astype(int));"
   ]
  },
  {
   "cell_type": "code",
   "execution_count": 45,
   "metadata": {},
   "outputs": [
    {
     "name": "stderr",
     "output_type": "stream",
     "text": [
      "LOCAL_RANK: 0 - CUDA_VISIBLE_DEVICES: [0]\n"
     ]
    },
    {
     "name": "stdout",
     "output_type": "stream",
     "text": [
      "Testing DataLoader 0: 100%|██████████| 40/40 [00:00<00:00, 195.80it/s]\n",
      "────────────────────────────────────────────────────────────────────────────────────────────────────────────────────────\n",
      "       Test metric             DataLoader 0\n",
      "────────────────────────────────────────────────────────────────────────────────────────────────────────────────────────\n",
      "      test_accuracy         0.9617999792098999\n",
      "        test_loss           0.15074127912521362\n",
      "────────────────────────────────────────────────────────────────────────────────────────────────────────────────────────\n"
     ]
    },
    {
     "data": {
      "text/plain": [
       "[{'test_loss': 0.15074127912521362, 'test_accuracy': 0.9617999792098999}]"
      ]
     },
     "execution_count": 45,
     "metadata": {},
     "output_type": "execute_result"
    }
   ],
   "source": [
    "mnist_trainer.test(mnist_module,\n",
    "                   datamodule=mnist_dm)"
   ]
  },
  {
   "cell_type": "code",
   "execution_count": 46,
   "metadata": {},
   "outputs": [],
   "source": [
    "class MNIST_MLR(nn.Module):\n",
    "    def __init__(self):\n",
    "        super().__init__()\n",
    "        self.linear = nn.Sequential(nn.Flatten(),\n",
    "                                    nn.Linear(784, 10))\n",
    "    def forward(self, x):\n",
    "        return self.linear(x)\n",
    "mlr_model = MNIST_MLR()\n",
    "mlr_module = SimpleModule.classification(mlr_model, num_classes=10)\n",
    "mlr_logger = CSVLogger(\"logs\", name=\"MNIST_MLR\")"
   ]
  },
  {
   "cell_type": "code",
   "execution_count": 47,
   "metadata": {},
   "outputs": [
    {
     "name": "stderr",
     "output_type": "stream",
     "text": [
      "GPU available: True (cuda), used: True\n",
      "TPU available: False, using: 0 TPU cores\n",
      "IPU available: False, using: 0 IPUs\n",
      "HPU available: False, using: 0 HPUs\n",
      "LOCAL_RANK: 0 - CUDA_VISIBLE_DEVICES: [0]\n",
      "\n",
      "  | Name  | Type             | Params\n",
      "-------------------------------------------\n",
      "0 | model | MNIST_MLR        | 7.9 K \n",
      "1 | loss  | CrossEntropyLoss | 0     \n",
      "-------------------------------------------\n",
      "7.9 K     Trainable params\n",
      "0         Non-trainable params\n",
      "7.9 K     Total params\n",
      "0.031     Total estimated model params size (MB)\n"
     ]
    },
    {
     "name": "stdout",
     "output_type": "stream",
     "text": [
      "Sanity Checking: |          | 0/? [00:00<?, ?it/s]"
     ]
    },
    {
     "name": "stdout",
     "output_type": "stream",
     "text": [
      "Epoch 29: 100%|██████████| 188/188 [00:02<00:00, 89.65it/s, v_num=4]        "
     ]
    },
    {
     "name": "stderr",
     "output_type": "stream",
     "text": [
      "`Trainer.fit` stopped: `max_epochs=30` reached.\n"
     ]
    },
    {
     "name": "stdout",
     "output_type": "stream",
     "text": [
      "Epoch 29: 100%|██████████| 188/188 [00:02<00:00, 89.26it/s, v_num=4]\n"
     ]
    }
   ],
   "source": [
    "mlr_trainer = Trainer(max_epochs=30,\n",
    "                      callbacks=[ErrorTracker()],\n",
    "                      logger=mlr_logger)\n",
    "mlr_trainer.fit(mlr_module, datamodule=mnist_dm)"
   ]
  },
  {
   "cell_type": "code",
   "execution_count": 48,
   "metadata": {},
   "outputs": [
    {
     "name": "stderr",
     "output_type": "stream",
     "text": [
      "LOCAL_RANK: 0 - CUDA_VISIBLE_DEVICES: [0]\n"
     ]
    },
    {
     "name": "stdout",
     "output_type": "stream",
     "text": [
      "Testing DataLoader 0: 100%|██████████| 40/40 [00:00<00:00, 230.33it/s]\n",
      "────────────────────────────────────────────────────────────────────────────────────────────────────────────────────────\n",
      "       Test metric             DataLoader 0\n",
      "────────────────────────────────────────────────────────────────────────────────────────────────────────────────────────\n",
      "      test_accuracy          0.920799970626831\n",
      "        test_loss           0.33121004700660706\n",
      "────────────────────────────────────────────────────────────────────────────────────────────────────────────────────────\n"
     ]
    },
    {
     "data": {
      "text/plain": [
       "[{'test_loss': 0.33121004700660706, 'test_accuracy': 0.920799970626831}]"
      ]
     },
     "execution_count": 48,
     "metadata": {},
     "output_type": "execute_result"
    }
   ],
   "source": [
    "mlr_trainer.test(mlr_module,\n",
    "                 datamodule=mnist_dm)"
   ]
  },
  {
   "cell_type": "code",
   "execution_count": 49,
   "metadata": {},
   "outputs": [
    {
     "data": {
      "image/png": "[encoded data removed]",
      "text/plain": [
       "<Figure size 600x600 with 1 Axes>"
      ]
     },
     "metadata": {},
     "output_type": "display_data"
    }
   ],
   "source": [
    "mnist_mlr_results = pd.read_csv(mlr_logger.experiment.metrics_file_path)\n",
    "fig, ax = subplots(1, 1, figsize=(6, 6))\n",
    "summary_plot(mnist_mlr_results,\n",
    "             ax,\n",
    "             col=\"accuracy\",\n",
    "             ylabel=\"Accuracy\")\n",
    "ax.set_ylim([0.5, 1])\n",
    "ax.set_ylabel(\"Accuracy\")\n",
    "ax.set_xticks(np.linspace(0, 30, 7).astype(int));"
   ]
  },
  {
   "cell_type": "code",
   "execution_count": 50,
   "metadata": {},
   "outputs": [],
   "source": [
    "del(mnist_test,\n",
    "    mnist_train,\n",
    "    mnist_model,\n",
    "    mnist_dm,\n",
    "    mnist_trainer,\n",
    "    mnist_module,\n",
    "    mnist_results,\n",
    "    mlr_model,\n",
    "    mlr_module,\n",
    "    mlr_trainer\n",
    "    )"
   ]
  },
  {
   "cell_type": "markdown",
   "metadata": {},
   "source": [
    "## 10.9.3 Convolutional Neural Networks"
   ]
  },
  {
   "cell_type": "code",
   "execution_count": 51,
   "metadata": {},
   "outputs": [
    {
     "name": "stdout",
     "output_type": "stream",
     "text": [
      "Files already downloaded and verified\n",
      "Files already downloaded and verified\n"
     ]
    }
   ],
   "source": [
    "(cifar_train,\n",
    " cifar_test) = [CIFAR100(root=\"train\",\n",
    "                         train=train,\n",
    "                         download=True)\n",
    "                         for train in [True, False]]"
   ]
  },
  {
   "cell_type": "code",
   "execution_count": 52,
   "metadata": {},
   "outputs": [],
   "source": [
    "transform = ToTensor()\n",
    "cifar_train_X = torch.stack([transform(x) for x in cifar_train.data])\n",
    "cifar_test_X = torch.stack([transform(x) for x in cifar_test.data])\n",
    "cifar_train = TensorDataset(cifar_train_X,\n",
    "                            torch.tensor(cifar_train.targets))\n",
    "cifar_test = TensorDataset(cifar_test_X,\n",
    "                           torch.tensor(cifar_test.targets))"
   ]
  },
  {
   "cell_type": "code",
   "execution_count": 53,
   "metadata": {},
   "outputs": [],
   "source": [
    "cifar_dm = SimpleDataModule(cifar_train,\n",
    "                            cifar_test,\n",
    "                            validation=0.2,\n",
    "                            num_workers=max_workers,\n",
    "                            batch_size=128)"
   ]
  },
  {
   "cell_type": "code",
   "execution_count": 54,
   "metadata": {},
   "outputs": [
    {
     "name": "stdout",
     "output_type": "stream",
     "text": [
      "X:  torch.Size([128, 3, 32, 32])\n",
      "Y:  torch.Size([128])\n",
      "X:  torch.Size([128, 3, 32, 32])\n",
      "Y:  torch.Size([128])\n"
     ]
    }
   ],
   "source": [
    "for idx, (X_, Y_) in enumerate(cifar_dm.train_dataloader()):\n",
    "    print(\"X: \", X_.shape)\n",
    "    print(\"Y: \", Y_.shape)\n",
    "    if idx >= 1:\n",
    "        break"
   ]
  },
  {
   "cell_type": "code",
   "execution_count": 55,
   "metadata": {},
   "outputs": [
    {
     "data": {
      "image/png": "[encoded data removed]",
      "text/plain": [
       "<Figure size 1000x1000 with 25 Axes>"
      ]
     },
     "metadata": {},
     "output_type": "display_data"
    }
   ],
   "source": [
    "fig, axes = subplots(5, 5, figsize=(10, 10))\n",
    "rng = np.random.default_rng(4)\n",
    "indices = rng.choice(np.arange(len(cifar_train)), 25,\n",
    "                     replace=False).reshape((5, 5))\n",
    "for i in range(5):\n",
    "    for j in range(5):\n",
    "        idx = indices[i, j]\n",
    "        axes[i, j].imshow(np.transpose(cifar_train[idx][0],\n",
    "                                       [1, 2, 0]),\n",
    "                                       interpolation=None)\n",
    "        axes[i, j].set_xticks([])\n",
    "        axes[i, j].set_yticks([])"
   ]
  },
  {
   "cell_type": "code",
   "execution_count": 56,
   "metadata": {},
   "outputs": [],
   "source": [
    "class BuildingBlock(nn.Module):\n",
    "    def __init__(self,\n",
    "                 in_channels,\n",
    "                 out_channels):\n",
    "        super().__init__()\n",
    "        self.conv = nn.Conv2d(in_channels=in_channels,\n",
    "                              out_channels=out_channels,\n",
    "                              kernel_size=(3, 3),\n",
    "                              padding=\"same\")\n",
    "        self.activation = nn.ReLU()\n",
    "        self.pool = nn.MaxPool2d(kernel_size=(2, 2))\n",
    "    def forward(self, x):\n",
    "        return self.pool(self.activation(self.conv(x)))"
   ]
  },
  {
   "cell_type": "code",
   "execution_count": 57,
   "metadata": {},
   "outputs": [],
   "source": [
    "class CifarModel(nn.Module):\n",
    "    def __init__(self):\n",
    "        super().__init__()\n",
    "        sizes = [(3, 32),\n",
    "                 (32, 64),\n",
    "                 (64, 128),\n",
    "                 (128, 256)]\n",
    "        self.conv = nn.Sequential(*[BuildingBlock(in_, out_)\n",
    "                                    for in_, out_ in sizes])\n",
    "        self.output = nn.Sequential(nn.Dropout(0.5),\n",
    "                                    nn.Linear(2*2*256, 512),\n",
    "                                    nn.ReLU(),\n",
    "                                    nn.Linear(512, 100))\n",
    "    def forward(self, x):\n",
    "        val = self.conv(x)\n",
    "        val = torch.flatten(val, start_dim=1)\n",
    "        return self.output(val)"
   ]
  },
  {
   "cell_type": "code",
   "execution_count": 58,
   "metadata": {},
   "outputs": [
    {
     "data": {
      "text/plain": [
       "===================================================================================================================\n",
       "Layer (type:depth-idx)                   Input Shape               Output Shape              Param #\n",
       "===================================================================================================================\n",
       "CifarModel                               [128, 3, 32, 32]          [128, 100]                --\n",
       "├─Sequential: 1-1                        [128, 3, 32, 32]          [128, 256, 2, 2]          --\n",
       "│    └─BuildingBlock: 2-1                [128, 3, 32, 32]          [128, 32, 16, 16]         --\n",
       "│    │    └─Conv2d: 3-1                  [128, 3, 32, 32]          [128, 32, 32, 32]         896\n",
       "│    │    └─ReLU: 3-2                    [128, 32, 32, 32]         [128, 32, 32, 32]         --\n",
       "│    │    └─MaxPool2d: 3-3               [128, 32, 32, 32]         [128, 32, 16, 16]         --\n",
       "│    └─BuildingBlock: 2-2                [128, 32, 16, 16]         [128, 64, 8, 8]           --\n",
       "│    │    └─Conv2d: 3-4                  [128, 32, 16, 16]         [128, 64, 16, 16]         18,496\n",
       "│    │    └─ReLU: 3-5                    [128, 64, 16, 16]         [128, 64, 16, 16]         --\n",
       "│    │    └─MaxPool2d: 3-6               [128, 64, 16, 16]         [128, 64, 8, 8]           --\n",
       "│    └─BuildingBlock: 2-3                [128, 64, 8, 8]           [128, 128, 4, 4]          --\n",
       "│    │    └─Conv2d: 3-7                  [128, 64, 8, 8]           [128, 128, 8, 8]          73,856\n",
       "│    │    └─ReLU: 3-8                    [128, 128, 8, 8]          [128, 128, 8, 8]          --\n",
       "│    │    └─MaxPool2d: 3-9               [128, 128, 8, 8]          [128, 128, 4, 4]          --\n",
       "│    └─BuildingBlock: 2-4                [128, 128, 4, 4]          [128, 256, 2, 2]          --\n",
       "│    │    └─Conv2d: 3-10                 [128, 128, 4, 4]          [128, 256, 4, 4]          295,168\n",
       "│    │    └─ReLU: 3-11                   [128, 256, 4, 4]          [128, 256, 4, 4]          --\n",
       "│    │    └─MaxPool2d: 3-12              [128, 256, 4, 4]          [128, 256, 2, 2]          --\n",
       "├─Sequential: 1-2                        [128, 1024]               [128, 100]                --\n",
       "│    └─Dropout: 2-5                      [128, 1024]               [128, 1024]               --\n",
       "│    └─Linear: 2-6                       [128, 1024]               [128, 512]                524,800\n",
       "│    └─ReLU: 2-7                         [128, 512]                [128, 512]                --\n",
       "│    └─Linear: 2-8                       [128, 512]                [128, 100]                51,300\n",
       "===================================================================================================================\n",
       "Total params: 964,516\n",
       "Trainable params: 964,516\n",
       "Non-trainable params: 0\n",
       "Total mult-adds (G): 2.01\n",
       "===================================================================================================================\n",
       "Input size (MB): 1.57\n",
       "Forward/backward pass size (MB): 63.54\n",
       "Params size (MB): 3.86\n",
       "Estimated Total Size (MB): 68.97\n",
       "==================================================================================================================="
      ]
     },
     "execution_count": 58,
     "metadata": {},
     "output_type": "execute_result"
    }
   ],
   "source": [
    "cifar_model = CifarModel()\n",
    "summary(cifar_model,\n",
    "        input_data=X_,\n",
    "        col_names=[\"input_size\",\n",
    "                   \"output_size\",\n",
    "                   \"num_params\"])"
   ]
  },
  {
   "cell_type": "code",
   "execution_count": 59,
   "metadata": {},
   "outputs": [],
   "source": [
    "cifar_optimizer = RMSprop(cifar_model.parameters(), lr=0.001)\n",
    "cifar_module = SimpleModule.classification(cifar_model,\n",
    "                                           optimizer=cifar_optimizer,\n",
    "                                           num_classes=100)\n",
    "cifar_logger = CSVLogger(\"logs\", name=\"CIFAR100\")"
   ]
  },
  {
   "cell_type": "code",
   "execution_count": 60,
   "metadata": {},
   "outputs": [
    {
     "name": "stderr",
     "output_type": "stream",
     "text": [
      "GPU available: True (cuda), used: True\n",
      "TPU available: False, using: 0 TPU cores\n",
      "IPU available: False, using: 0 IPUs\n",
      "HPU available: False, using: 0 HPUs\n",
      "LOCAL_RANK: 0 - CUDA_VISIBLE_DEVICES: [0]\n",
      "\n",
      "  | Name  | Type             | Params\n",
      "-------------------------------------------\n",
      "0 | model | CifarModel       | 964 K \n",
      "1 | loss  | CrossEntropyLoss | 0     \n",
      "-------------------------------------------\n",
      "964 K     Trainable params\n",
      "0         Non-trainable params\n",
      "964 K     Total params\n",
      "3.858     Total estimated model params size (MB)\n"
     ]
    },
    {
     "name": "stdout",
     "output_type": "stream",
     "text": [
      "Sanity Checking: |          | 0/? [00:00<?, ?it/s]"
     ]
    },
    {
     "name": "stdout",
     "output_type": "stream",
     "text": [
      "Epoch 29: 100%|██████████| 313/313 [00:04<00:00, 64.58it/s, v_num=3]        "
     ]
    },
    {
     "name": "stderr",
     "output_type": "stream",
     "text": [
      "`Trainer.fit` stopped: `max_epochs=30` reached.\n"
     ]
    },
    {
     "name": "stdout",
     "output_type": "stream",
     "text": [
      "Epoch 29: 100%|██████████| 313/313 [00:04<00:00, 64.24it/s, v_num=3]\n"
     ]
    }
   ],
   "source": [
    "cifar_trainer = Trainer(max_epochs=30,\n",
    "                        logger=cifar_logger,\n",
    "                        callbacks=[ErrorTracker()])\n",
    "cifar_trainer.fit(cifar_module,\n",
    "                  datamodule=cifar_dm)"
   ]
  },
  {
   "cell_type": "code",
   "execution_count": 61,
   "metadata": {},
   "outputs": [
    {
     "data": {
      "image/png": "[encoded data removed]",
      "text/plain": [
       "<Figure size 600x600 with 1 Axes>"
      ]
     },
     "metadata": {},
     "output_type": "display_data"
    }
   ],
   "source": [
    "log_path = cifar_logger.experiment.metrics_file_path\n",
    "cifar_results = pd.read_csv(log_path)\n",
    "fig, ax = subplots(1, 1, figsize=(6, 6))\n",
    "summary_plot(cifar_results,\n",
    "             ax,\n",
    "             col=\"accuracy\",\n",
    "             ylabel=\"Accuracy\")\n",
    "ax.set_xticks(np.linspace(0, 10, 6).astype(int))\n",
    "ax.set_ylabel(\"Accuracy\")\n",
    "ax.set_ylim([0, 1]);"
   ]
  },
  {
   "cell_type": "code",
   "execution_count": 62,
   "metadata": {},
   "outputs": [
    {
     "name": "stderr",
     "output_type": "stream",
     "text": [
      "LOCAL_RANK: 0 - CUDA_VISIBLE_DEVICES: [0]\n"
     ]
    },
    {
     "name": "stdout",
     "output_type": "stream",
     "text": [
      "Testing DataLoader 0: 100%|██████████| 79/79 [00:00<00:00, 190.27it/s]\n",
      "────────────────────────────────────────────────────────────────────────────────────────────────────────────────────────\n",
      "       Test metric             DataLoader 0\n",
      "────────────────────────────────────────────────────────────────────────────────────────────────────────────────────────\n",
      "      test_accuracy         0.4219000041484833\n",
      "        test_loss           2.4660563468933105\n",
      "────────────────────────────────────────────────────────────────────────────────────────────────────────────────────────\n"
     ]
    },
    {
     "data": {
      "text/plain": [
       "[{'test_loss': 2.4660563468933105, 'test_accuracy': 0.4219000041484833}]"
      ]
     },
     "execution_count": 62,
     "metadata": {},
     "output_type": "execute_result"
    }
   ],
   "source": [
    "cifar_trainer.test(cifar_module,\n",
    "                   datamodule=cifar_dm)"
   ]
  },
  {
   "cell_type": "markdown",
   "metadata": {},
   "source": [
    "### Hardware Acceleration"
   ]
  },
  {
   "cell_type": "code",
   "execution_count": 63,
   "metadata": {},
   "outputs": [
    {
     "name": "stderr",
     "output_type": "stream",
     "text": [
      "GPU available: True (cuda), used: True\n",
      "TPU available: False, using: 0 TPU cores\n",
      "IPU available: False, using: 0 IPUs\n",
      "HPU available: False, using: 0 HPUs\n",
      "/home/adarsh/.pyenv/versions/3.10.12/envs/islp/lib/python3.10/site-packages/pytorch_lightning/trainer/connectors/logger_connector/logger_connector.py:67: Starting from v1.9.0, `tensorboardX` has been removed as a dependency of the `pytorch_lightning` package, due to potential conflicts with other packages in the ML ecosystem. For this reason, `logger=True` will use `CSVLogger` as the default logger, unless the `tensorboard` or `tensorboardX` packages are found. Please `pip install lightning[extra]` or one of them to enable TensorBoard support by default\n",
      "LOCAL_RANK: 0 - CUDA_VISIBLE_DEVICES: [0]\n",
      "\n",
      "  | Name  | Type             | Params\n",
      "-------------------------------------------\n",
      "0 | model | CifarModel       | 964 K \n",
      "1 | loss  | CrossEntropyLoss | 0     \n",
      "-------------------------------------------\n",
      "964 K     Trainable params\n",
      "0         Non-trainable params\n",
      "964 K     Total params\n",
      "3.858     Total estimated model params size (MB)\n"
     ]
    },
    {
     "name": "stdout",
     "output_type": "stream",
     "text": [
      "Epoch 29: 100%|██████████| 313/313 [00:05<00:00, 62.02it/s, v_num=4]        "
     ]
    },
    {
     "name": "stderr",
     "output_type": "stream",
     "text": [
      "`Trainer.fit` stopped: `max_epochs=30` reached.\n"
     ]
    },
    {
     "name": "stdout",
     "output_type": "stream",
     "text": [
      "Epoch 29: 100%|██████████| 313/313 [00:05<00:00, 61.73it/s, v_num=4]\n"
     ]
    },
    {
     "name": "stderr",
     "output_type": "stream",
     "text": [
      "LOCAL_RANK: 0 - CUDA_VISIBLE_DEVICES: [0]\n"
     ]
    },
    {
     "name": "stdout",
     "output_type": "stream",
     "text": [
      "Testing DataLoader 0: 100%|██████████| 79/79 [00:00<00:00, 258.08it/s]\n"
     ]
    }
   ],
   "source": [
    "try:\n",
    "    for name, metric in cifar_module.metrics.items():\n",
    "        cifar_module.metrics[name] = metric.to(\"cuda\")\n",
    "    cifar_trainer_cuda = Trainer(accelerator=\"cuda\",\n",
    "                                 max_epochs=30)\n",
    "    cifar_trainer_cuda.fit(cifar_module,\n",
    "                           datamodule=cifar_dm)\n",
    "    cifar_trainer_cuda.test(cifar_module,\n",
    "                            datamodule=cifar_dm)\n",
    "except:\n",
    "    pass"
   ]
  },
  {
   "cell_type": "markdown",
   "metadata": {},
   "source": [
    "## 10.9.4 Using Pretrained CNN Models"
   ]
  },
  {
   "cell_type": "code",
   "execution_count": 64,
   "metadata": {},
   "outputs": [
    {
     "name": "stderr",
     "output_type": "stream",
     "text": [
      "/home/adarsh/.pyenv/versions/3.10.12/envs/islp/lib/python3.10/site-packages/torchvision/transforms/functional.py:1603: UserWarning: The default value of the antialias parameter of all the resizing transforms (Resize(), RandomResizedCrop(), etc.) will change from None to True in v0.17, in order to be consistent across the PIL and Tensor backends. To suppress this warning, directly pass antialias=True (recommended, future default), antialias=None (current default, which means False for Tensors and True for PIL), or antialias=False (only works on Tensors - PIL will still use antialiasing). This also applies if you are using the inference transforms from the models weights: update the call to weights.transforms(antialias=True).\n",
      "  warnings.warn(\n"
     ]
    },
    {
     "data": {
      "text/plain": [
       "torch.Size([5, 3, 224, 224])"
      ]
     },
     "execution_count": 64,
     "metadata": {},
     "output_type": "execute_result"
    }
   ],
   "source": [
    "resize = Resize((232, 232))\n",
    "crop = CenterCrop(224)\n",
    "normalize = Normalize([0.485, 0.456, 0.406],\n",
    "                      [0.229, 0.224, 0.225])\n",
    "imgfiles = sorted([f for f in glob(\"book_images/*\")])\n",
    "imgs = torch.stack([torch.div(crop(resize(read_image(f))), 255) for f in imgfiles])\n",
    "imgs = normalize(imgs)\n",
    "imgs.size()"
   ]
  },
  {
   "cell_type": "code",
   "execution_count": 65,
   "metadata": {},
   "outputs": [
    {
     "data": {
      "text/plain": [
       "===================================================================================================================\n",
       "Layer (type:depth-idx)                   Input Shape               Output Shape              Param #\n",
       "===================================================================================================================\n",
       "ResNet                                   [5, 3, 224, 224]          [5, 1000]                 --\n",
       "├─Conv2d: 1-1                            [5, 3, 224, 224]          [5, 64, 112, 112]         9,408\n",
       "├─BatchNorm2d: 1-2                       [5, 64, 112, 112]         [5, 64, 112, 112]         128\n",
       "├─ReLU: 1-3                              [5, 64, 112, 112]         [5, 64, 112, 112]         --\n",
       "├─MaxPool2d: 1-4                         [5, 64, 112, 112]         [5, 64, 56, 56]           --\n",
       "├─Sequential: 1-5                        [5, 64, 56, 56]           [5, 256, 56, 56]          --\n",
       "│    └─Bottleneck: 2-1                   [5, 64, 56, 56]           [5, 256, 56, 56]          --\n",
       "│    │    └─Conv2d: 3-1                  [5, 64, 56, 56]           [5, 64, 56, 56]           4,096\n",
       "│    │    └─BatchNorm2d: 3-2             [5, 64, 56, 56]           [5, 64, 56, 56]           128\n",
       "│    │    └─ReLU: 3-3                    [5, 64, 56, 56]           [5, 64, 56, 56]           --\n",
       "│    │    └─Conv2d: 3-4                  [5, 64, 56, 56]           [5, 64, 56, 56]           36,864\n",
       "│    │    └─BatchNorm2d: 3-5             [5, 64, 56, 56]           [5, 64, 56, 56]           128\n",
       "│    │    └─ReLU: 3-6                    [5, 64, 56, 56]           [5, 64, 56, 56]           --\n",
       "│    │    └─Conv2d: 3-7                  [5, 64, 56, 56]           [5, 256, 56, 56]          16,384\n",
       "│    │    └─BatchNorm2d: 3-8             [5, 256, 56, 56]          [5, 256, 56, 56]          512\n",
       "│    │    └─Sequential: 3-9              [5, 64, 56, 56]           [5, 256, 56, 56]          16,896\n",
       "│    │    └─ReLU: 3-10                   [5, 256, 56, 56]          [5, 256, 56, 56]          --\n",
       "│    └─Bottleneck: 2-2                   [5, 256, 56, 56]          [5, 256, 56, 56]          --\n",
       "│    │    └─Conv2d: 3-11                 [5, 256, 56, 56]          [5, 64, 56, 56]           16,384\n",
       "│    │    └─BatchNorm2d: 3-12            [5, 64, 56, 56]           [5, 64, 56, 56]           128\n",
       "│    │    └─ReLU: 3-13                   [5, 64, 56, 56]           [5, 64, 56, 56]           --\n",
       "│    │    └─Conv2d: 3-14                 [5, 64, 56, 56]           [5, 64, 56, 56]           36,864\n",
       "│    │    └─BatchNorm2d: 3-15            [5, 64, 56, 56]           [5, 64, 56, 56]           128\n",
       "│    │    └─ReLU: 3-16                   [5, 64, 56, 56]           [5, 64, 56, 56]           --\n",
       "│    │    └─Conv2d: 3-17                 [5, 64, 56, 56]           [5, 256, 56, 56]          16,384\n",
       "│    │    └─BatchNorm2d: 3-18            [5, 256, 56, 56]          [5, 256, 56, 56]          512\n",
       "│    │    └─ReLU: 3-19                   [5, 256, 56, 56]          [5, 256, 56, 56]          --\n",
       "│    └─Bottleneck: 2-3                   [5, 256, 56, 56]          [5, 256, 56, 56]          --\n",
       "│    │    └─Conv2d: 3-20                 [5, 256, 56, 56]          [5, 64, 56, 56]           16,384\n",
       "│    │    └─BatchNorm2d: 3-21            [5, 64, 56, 56]           [5, 64, 56, 56]           128\n",
       "│    │    └─ReLU: 3-22                   [5, 64, 56, 56]           [5, 64, 56, 56]           --\n",
       "│    │    └─Conv2d: 3-23                 [5, 64, 56, 56]           [5, 64, 56, 56]           36,864\n",
       "│    │    └─BatchNorm2d: 3-24            [5, 64, 56, 56]           [5, 64, 56, 56]           128\n",
       "│    │    └─ReLU: 3-25                   [5, 64, 56, 56]           [5, 64, 56, 56]           --\n",
       "│    │    └─Conv2d: 3-26                 [5, 64, 56, 56]           [5, 256, 56, 56]          16,384\n",
       "│    │    └─BatchNorm2d: 3-27            [5, 256, 56, 56]          [5, 256, 56, 56]          512\n",
       "│    │    └─ReLU: 3-28                   [5, 256, 56, 56]          [5, 256, 56, 56]          --\n",
       "├─Sequential: 1-6                        [5, 256, 56, 56]          [5, 512, 28, 28]          --\n",
       "│    └─Bottleneck: 2-4                   [5, 256, 56, 56]          [5, 512, 28, 28]          --\n",
       "│    │    └─Conv2d: 3-29                 [5, 256, 56, 56]          [5, 128, 56, 56]          32,768\n",
       "│    │    └─BatchNorm2d: 3-30            [5, 128, 56, 56]          [5, 128, 56, 56]          256\n",
       "│    │    └─ReLU: 3-31                   [5, 128, 56, 56]          [5, 128, 56, 56]          --\n",
       "│    │    └─Conv2d: 3-32                 [5, 128, 56, 56]          [5, 128, 28, 28]          147,456\n",
       "│    │    └─BatchNorm2d: 3-33            [5, 128, 28, 28]          [5, 128, 28, 28]          256\n",
       "│    │    └─ReLU: 3-34                   [5, 128, 28, 28]          [5, 128, 28, 28]          --\n",
       "│    │    └─Conv2d: 3-35                 [5, 128, 28, 28]          [5, 512, 28, 28]          65,536\n",
       "│    │    └─BatchNorm2d: 3-36            [5, 512, 28, 28]          [5, 512, 28, 28]          1,024\n",
       "│    │    └─Sequential: 3-37             [5, 256, 56, 56]          [5, 512, 28, 28]          132,096\n",
       "│    │    └─ReLU: 3-38                   [5, 512, 28, 28]          [5, 512, 28, 28]          --\n",
       "│    └─Bottleneck: 2-5                   [5, 512, 28, 28]          [5, 512, 28, 28]          --\n",
       "│    │    └─Conv2d: 3-39                 [5, 512, 28, 28]          [5, 128, 28, 28]          65,536\n",
       "│    │    └─BatchNorm2d: 3-40            [5, 128, 28, 28]          [5, 128, 28, 28]          256\n",
       "│    │    └─ReLU: 3-41                   [5, 128, 28, 28]          [5, 128, 28, 28]          --\n",
       "│    │    └─Conv2d: 3-42                 [5, 128, 28, 28]          [5, 128, 28, 28]          147,456\n",
       "│    │    └─BatchNorm2d: 3-43            [5, 128, 28, 28]          [5, 128, 28, 28]          256\n",
       "│    │    └─ReLU: 3-44                   [5, 128, 28, 28]          [5, 128, 28, 28]          --\n",
       "│    │    └─Conv2d: 3-45                 [5, 128, 28, 28]          [5, 512, 28, 28]          65,536\n",
       "│    │    └─BatchNorm2d: 3-46            [5, 512, 28, 28]          [5, 512, 28, 28]          1,024\n",
       "│    │    └─ReLU: 3-47                   [5, 512, 28, 28]          [5, 512, 28, 28]          --\n",
       "│    └─Bottleneck: 2-6                   [5, 512, 28, 28]          [5, 512, 28, 28]          --\n",
       "│    │    └─Conv2d: 3-48                 [5, 512, 28, 28]          [5, 128, 28, 28]          65,536\n",
       "│    │    └─BatchNorm2d: 3-49            [5, 128, 28, 28]          [5, 128, 28, 28]          256\n",
       "│    │    └─ReLU: 3-50                   [5, 128, 28, 28]          [5, 128, 28, 28]          --\n",
       "│    │    └─Conv2d: 3-51                 [5, 128, 28, 28]          [5, 128, 28, 28]          147,456\n",
       "│    │    └─BatchNorm2d: 3-52            [5, 128, 28, 28]          [5, 128, 28, 28]          256\n",
       "│    │    └─ReLU: 3-53                   [5, 128, 28, 28]          [5, 128, 28, 28]          --\n",
       "│    │    └─Conv2d: 3-54                 [5, 128, 28, 28]          [5, 512, 28, 28]          65,536\n",
       "│    │    └─BatchNorm2d: 3-55            [5, 512, 28, 28]          [5, 512, 28, 28]          1,024\n",
       "│    │    └─ReLU: 3-56                   [5, 512, 28, 28]          [5, 512, 28, 28]          --\n",
       "│    └─Bottleneck: 2-7                   [5, 512, 28, 28]          [5, 512, 28, 28]          --\n",
       "│    │    └─Conv2d: 3-57                 [5, 512, 28, 28]          [5, 128, 28, 28]          65,536\n",
       "│    │    └─BatchNorm2d: 3-58            [5, 128, 28, 28]          [5, 128, 28, 28]          256\n",
       "│    │    └─ReLU: 3-59                   [5, 128, 28, 28]          [5, 128, 28, 28]          --\n",
       "│    │    └─Conv2d: 3-60                 [5, 128, 28, 28]          [5, 128, 28, 28]          147,456\n",
       "│    │    └─BatchNorm2d: 3-61            [5, 128, 28, 28]          [5, 128, 28, 28]          256\n",
       "│    │    └─ReLU: 3-62                   [5, 128, 28, 28]          [5, 128, 28, 28]          --\n",
       "│    │    └─Conv2d: 3-63                 [5, 128, 28, 28]          [5, 512, 28, 28]          65,536\n",
       "│    │    └─BatchNorm2d: 3-64            [5, 512, 28, 28]          [5, 512, 28, 28]          1,024\n",
       "│    │    └─ReLU: 3-65                   [5, 512, 28, 28]          [5, 512, 28, 28]          --\n",
       "├─Sequential: 1-7                        [5, 512, 28, 28]          [5, 1024, 14, 14]         --\n",
       "│    └─Bottleneck: 2-8                   [5, 512, 28, 28]          [5, 1024, 14, 14]         --\n",
       "│    │    └─Conv2d: 3-66                 [5, 512, 28, 28]          [5, 256, 28, 28]          131,072\n",
       "│    │    └─BatchNorm2d: 3-67            [5, 256, 28, 28]          [5, 256, 28, 28]          512\n",
       "│    │    └─ReLU: 3-68                   [5, 256, 28, 28]          [5, 256, 28, 28]          --\n",
       "│    │    └─Conv2d: 3-69                 [5, 256, 28, 28]          [5, 256, 14, 14]          589,824\n",
       "│    │    └─BatchNorm2d: 3-70            [5, 256, 14, 14]          [5, 256, 14, 14]          512\n",
       "│    │    └─ReLU: 3-71                   [5, 256, 14, 14]          [5, 256, 14, 14]          --\n",
       "│    │    └─Conv2d: 3-72                 [5, 256, 14, 14]          [5, 1024, 14, 14]         262,144\n",
       "│    │    └─BatchNorm2d: 3-73            [5, 1024, 14, 14]         [5, 1024, 14, 14]         2,048\n",
       "│    │    └─Sequential: 3-74             [5, 512, 28, 28]          [5, 1024, 14, 14]         526,336\n",
       "│    │    └─ReLU: 3-75                   [5, 1024, 14, 14]         [5, 1024, 14, 14]         --\n",
       "│    └─Bottleneck: 2-9                   [5, 1024, 14, 14]         [5, 1024, 14, 14]         --\n",
       "│    │    └─Conv2d: 3-76                 [5, 1024, 14, 14]         [5, 256, 14, 14]          262,144\n",
       "│    │    └─BatchNorm2d: 3-77            [5, 256, 14, 14]          [5, 256, 14, 14]          512\n",
       "│    │    └─ReLU: 3-78                   [5, 256, 14, 14]          [5, 256, 14, 14]          --\n",
       "│    │    └─Conv2d: 3-79                 [5, 256, 14, 14]          [5, 256, 14, 14]          589,824\n",
       "│    │    └─BatchNorm2d: 3-80            [5, 256, 14, 14]          [5, 256, 14, 14]          512\n",
       "│    │    └─ReLU: 3-81                   [5, 256, 14, 14]          [5, 256, 14, 14]          --\n",
       "│    │    └─Conv2d: 3-82                 [5, 256, 14, 14]          [5, 1024, 14, 14]         262,144\n",
       "│    │    └─BatchNorm2d: 3-83            [5, 1024, 14, 14]         [5, 1024, 14, 14]         2,048\n",
       "│    │    └─ReLU: 3-84                   [5, 1024, 14, 14]         [5, 1024, 14, 14]         --\n",
       "│    └─Bottleneck: 2-10                  [5, 1024, 14, 14]         [5, 1024, 14, 14]         --\n",
       "│    │    └─Conv2d: 3-85                 [5, 1024, 14, 14]         [5, 256, 14, 14]          262,144\n",
       "│    │    └─BatchNorm2d: 3-86            [5, 256, 14, 14]          [5, 256, 14, 14]          512\n",
       "│    │    └─ReLU: 3-87                   [5, 256, 14, 14]          [5, 256, 14, 14]          --\n",
       "│    │    └─Conv2d: 3-88                 [5, 256, 14, 14]          [5, 256, 14, 14]          589,824\n",
       "│    │    └─BatchNorm2d: 3-89            [5, 256, 14, 14]          [5, 256, 14, 14]          512\n",
       "│    │    └─ReLU: 3-90                   [5, 256, 14, 14]          [5, 256, 14, 14]          --\n",
       "│    │    └─Conv2d: 3-91                 [5, 256, 14, 14]          [5, 1024, 14, 14]         262,144\n",
       "│    │    └─BatchNorm2d: 3-92            [5, 1024, 14, 14]         [5, 1024, 14, 14]         2,048\n",
       "│    │    └─ReLU: 3-93                   [5, 1024, 14, 14]         [5, 1024, 14, 14]         --\n",
       "│    └─Bottleneck: 2-11                  [5, 1024, 14, 14]         [5, 1024, 14, 14]         --\n",
       "│    │    └─Conv2d: 3-94                 [5, 1024, 14, 14]         [5, 256, 14, 14]          262,144\n",
       "│    │    └─BatchNorm2d: 3-95            [5, 256, 14, 14]          [5, 256, 14, 14]          512\n",
       "│    │    └─ReLU: 3-96                   [5, 256, 14, 14]          [5, 256, 14, 14]          --\n",
       "│    │    └─Conv2d: 3-97                 [5, 256, 14, 14]          [5, 256, 14, 14]          589,824\n",
       "│    │    └─BatchNorm2d: 3-98            [5, 256, 14, 14]          [5, 256, 14, 14]          512\n",
       "│    │    └─ReLU: 3-99                   [5, 256, 14, 14]          [5, 256, 14, 14]          --\n",
       "│    │    └─Conv2d: 3-100                [5, 256, 14, 14]          [5, 1024, 14, 14]         262,144\n",
       "│    │    └─BatchNorm2d: 3-101           [5, 1024, 14, 14]         [5, 1024, 14, 14]         2,048\n",
       "│    │    └─ReLU: 3-102                  [5, 1024, 14, 14]         [5, 1024, 14, 14]         --\n",
       "│    └─Bottleneck: 2-12                  [5, 1024, 14, 14]         [5, 1024, 14, 14]         --\n",
       "│    │    └─Conv2d: 3-103                [5, 1024, 14, 14]         [5, 256, 14, 14]          262,144\n",
       "│    │    └─BatchNorm2d: 3-104           [5, 256, 14, 14]          [5, 256, 14, 14]          512\n",
       "│    │    └─ReLU: 3-105                  [5, 256, 14, 14]          [5, 256, 14, 14]          --\n",
       "│    │    └─Conv2d: 3-106                [5, 256, 14, 14]          [5, 256, 14, 14]          589,824\n",
       "│    │    └─BatchNorm2d: 3-107           [5, 256, 14, 14]          [5, 256, 14, 14]          512\n",
       "│    │    └─ReLU: 3-108                  [5, 256, 14, 14]          [5, 256, 14, 14]          --\n",
       "│    │    └─Conv2d: 3-109                [5, 256, 14, 14]          [5, 1024, 14, 14]         262,144\n",
       "│    │    └─BatchNorm2d: 3-110           [5, 1024, 14, 14]         [5, 1024, 14, 14]         2,048\n",
       "│    │    └─ReLU: 3-111                  [5, 1024, 14, 14]         [5, 1024, 14, 14]         --\n",
       "│    └─Bottleneck: 2-13                  [5, 1024, 14, 14]         [5, 1024, 14, 14]         --\n",
       "│    │    └─Conv2d: 3-112                [5, 1024, 14, 14]         [5, 256, 14, 14]          262,144\n",
       "│    │    └─BatchNorm2d: 3-113           [5, 256, 14, 14]          [5, 256, 14, 14]          512\n",
       "│    │    └─ReLU: 3-114                  [5, 256, 14, 14]          [5, 256, 14, 14]          --\n",
       "│    │    └─Conv2d: 3-115                [5, 256, 14, 14]          [5, 256, 14, 14]          589,824\n",
       "│    │    └─BatchNorm2d: 3-116           [5, 256, 14, 14]          [5, 256, 14, 14]          512\n",
       "│    │    └─ReLU: 3-117                  [5, 256, 14, 14]          [5, 256, 14, 14]          --\n",
       "│    │    └─Conv2d: 3-118                [5, 256, 14, 14]          [5, 1024, 14, 14]         262,144\n",
       "│    │    └─BatchNorm2d: 3-119           [5, 1024, 14, 14]         [5, 1024, 14, 14]         2,048\n",
       "│    │    └─ReLU: 3-120                  [5, 1024, 14, 14]         [5, 1024, 14, 14]         --\n",
       "├─Sequential: 1-8                        [5, 1024, 14, 14]         [5, 2048, 7, 7]           --\n",
       "│    └─Bottleneck: 2-14                  [5, 1024, 14, 14]         [5, 2048, 7, 7]           --\n",
       "│    │    └─Conv2d: 3-121                [5, 1024, 14, 14]         [5, 512, 14, 14]          524,288\n",
       "│    │    └─BatchNorm2d: 3-122           [5, 512, 14, 14]          [5, 512, 14, 14]          1,024\n",
       "│    │    └─ReLU: 3-123                  [5, 512, 14, 14]          [5, 512, 14, 14]          --\n",
       "│    │    └─Conv2d: 3-124                [5, 512, 14, 14]          [5, 512, 7, 7]            2,359,296\n",
       "│    │    └─BatchNorm2d: 3-125           [5, 512, 7, 7]            [5, 512, 7, 7]            1,024\n",
       "│    │    └─ReLU: 3-126                  [5, 512, 7, 7]            [5, 512, 7, 7]            --\n",
       "│    │    └─Conv2d: 3-127                [5, 512, 7, 7]            [5, 2048, 7, 7]           1,048,576\n",
       "│    │    └─BatchNorm2d: 3-128           [5, 2048, 7, 7]           [5, 2048, 7, 7]           4,096\n",
       "│    │    └─Sequential: 3-129            [5, 1024, 14, 14]         [5, 2048, 7, 7]           2,101,248\n",
       "│    │    └─ReLU: 3-130                  [5, 2048, 7, 7]           [5, 2048, 7, 7]           --\n",
       "│    └─Bottleneck: 2-15                  [5, 2048, 7, 7]           [5, 2048, 7, 7]           --\n",
       "│    │    └─Conv2d: 3-131                [5, 2048, 7, 7]           [5, 512, 7, 7]            1,048,576\n",
       "│    │    └─BatchNorm2d: 3-132           [5, 512, 7, 7]            [5, 512, 7, 7]            1,024\n",
       "│    │    └─ReLU: 3-133                  [5, 512, 7, 7]            [5, 512, 7, 7]            --\n",
       "│    │    └─Conv2d: 3-134                [5, 512, 7, 7]            [5, 512, 7, 7]            2,359,296\n",
       "│    │    └─BatchNorm2d: 3-135           [5, 512, 7, 7]            [5, 512, 7, 7]            1,024\n",
       "│    │    └─ReLU: 3-136                  [5, 512, 7, 7]            [5, 512, 7, 7]            --\n",
       "│    │    └─Conv2d: 3-137                [5, 512, 7, 7]            [5, 2048, 7, 7]           1,048,576\n",
       "│    │    └─BatchNorm2d: 3-138           [5, 2048, 7, 7]           [5, 2048, 7, 7]           4,096\n",
       "│    │    └─ReLU: 3-139                  [5, 2048, 7, 7]           [5, 2048, 7, 7]           --\n",
       "│    └─Bottleneck: 2-16                  [5, 2048, 7, 7]           [5, 2048, 7, 7]           --\n",
       "│    │    └─Conv2d: 3-140                [5, 2048, 7, 7]           [5, 512, 7, 7]            1,048,576\n",
       "│    │    └─BatchNorm2d: 3-141           [5, 512, 7, 7]            [5, 512, 7, 7]            1,024\n",
       "│    │    └─ReLU: 3-142                  [5, 512, 7, 7]            [5, 512, 7, 7]            --\n",
       "│    │    └─Conv2d: 3-143                [5, 512, 7, 7]            [5, 512, 7, 7]            2,359,296\n",
       "│    │    └─BatchNorm2d: 3-144           [5, 512, 7, 7]            [5, 512, 7, 7]            1,024\n",
       "│    │    └─ReLU: 3-145                  [5, 512, 7, 7]            [5, 512, 7, 7]            --\n",
       "│    │    └─Conv2d: 3-146                [5, 512, 7, 7]            [5, 2048, 7, 7]           1,048,576\n",
       "│    │    └─BatchNorm2d: 3-147           [5, 2048, 7, 7]           [5, 2048, 7, 7]           4,096\n",
       "│    │    └─ReLU: 3-148                  [5, 2048, 7, 7]           [5, 2048, 7, 7]           --\n",
       "├─AdaptiveAvgPool2d: 1-9                 [5, 2048, 7, 7]           [5, 2048, 1, 1]           --\n",
       "├─Linear: 1-10                           [5, 2048]                 [5, 1000]                 2,049,000\n",
       "===================================================================================================================\n",
       "Total params: 25,557,032\n",
       "Trainable params: 25,557,032\n",
       "Non-trainable params: 0\n",
       "Total mult-adds (G): 20.45\n",
       "===================================================================================================================\n",
       "Input size (MB): 3.01\n",
       "Forward/backward pass size (MB): 889.16\n",
       "Params size (MB): 102.23\n",
       "Estimated Total Size (MB): 994.40\n",
       "==================================================================================================================="
      ]
     },
     "execution_count": 65,
     "metadata": {},
     "output_type": "execute_result"
    }
   ],
   "source": [
    "resnet_model = resnet50(weights=ResNet50_Weights.DEFAULT)\n",
    "summary(resnet_model,\n",
    "        input_data=imgs,\n",
    "        col_names=[\"input_size\",\n",
    "                   \"output_size\",\n",
    "                   \"num_params\"])"
   ]
  },
  {
   "cell_type": "code",
   "execution_count": 66,
   "metadata": {},
   "outputs": [
    {
     "data": {
      "text/plain": [
       "ResNet(\n",
       "  (conv1): Conv2d(3, 64, kernel_size=(7, 7), stride=(2, 2), padding=(3, 3), bias=False)\n",
       "  (bn1): BatchNorm2d(64, eps=1e-05, momentum=0.1, affine=True, track_running_stats=True)\n",
       "  (relu): ReLU(inplace=True)\n",
       "  (maxpool): MaxPool2d(kernel_size=3, stride=2, padding=1, dilation=1, ceil_mode=False)\n",
       "  (layer1): Sequential(\n",
       "    (0): Bottleneck(\n",
       "      (conv1): Conv2d(64, 64, kernel_size=(1, 1), stride=(1, 1), bias=False)\n",
       "      (bn1): BatchNorm2d(64, eps=1e-05, momentum=0.1, affine=True, track_running_stats=True)\n",
       "      (conv2): Conv2d(64, 64, kernel_size=(3, 3), stride=(1, 1), padding=(1, 1), bias=False)\n",
       "      (bn2): BatchNorm2d(64, eps=1e-05, momentum=0.1, affine=True, track_running_stats=True)\n",
       "      (conv3): Conv2d(64, 256, kernel_size=(1, 1), stride=(1, 1), bias=False)\n",
       "      (bn3): BatchNorm2d(256, eps=1e-05, momentum=0.1, affine=True, track_running_stats=True)\n",
       "      (relu): ReLU(inplace=True)\n",
       "      (downsample): Sequential(\n",
       "        (0): Conv2d(64, 256, kernel_size=(1, 1), stride=(1, 1), bias=False)\n",
       "        (1): BatchNorm2d(256, eps=1e-05, momentum=0.1, affine=True, track_running_stats=True)\n",
       "      )\n",
       "    )\n",
       "    (1): Bottleneck(\n",
       "      (conv1): Conv2d(256, 64, kernel_size=(1, 1), stride=(1, 1), bias=False)\n",
       "      (bn1): BatchNorm2d(64, eps=1e-05, momentum=0.1, affine=True, track_running_stats=True)\n",
       "      (conv2): Conv2d(64, 64, kernel_size=(3, 3), stride=(1, 1), padding=(1, 1), bias=False)\n",
       "      (bn2): BatchNorm2d(64, eps=1e-05, momentum=0.1, affine=True, track_running_stats=True)\n",
       "      (conv3): Conv2d(64, 256, kernel_size=(1, 1), stride=(1, 1), bias=False)\n",
       "      (bn3): BatchNorm2d(256, eps=1e-05, momentum=0.1, affine=True, track_running_stats=True)\n",
       "      (relu): ReLU(inplace=True)\n",
       "    )\n",
       "    (2): Bottleneck(\n",
       "      (conv1): Conv2d(256, 64, kernel_size=(1, 1), stride=(1, 1), bias=False)\n",
       "      (bn1): BatchNorm2d(64, eps=1e-05, momentum=0.1, affine=True, track_running_stats=True)\n",
       "      (conv2): Conv2d(64, 64, kernel_size=(3, 3), stride=(1, 1), padding=(1, 1), bias=False)\n",
       "      (bn2): BatchNorm2d(64, eps=1e-05, momentum=0.1, affine=True, track_running_stats=True)\n",
       "      (conv3): Conv2d(64, 256, kernel_size=(1, 1), stride=(1, 1), bias=False)\n",
       "      (bn3): BatchNorm2d(256, eps=1e-05, momentum=0.1, affine=True, track_running_stats=True)\n",
       "      (relu): ReLU(inplace=True)\n",
       "    )\n",
       "  )\n",
       "  (layer2): Sequential(\n",
       "    (0): Bottleneck(\n",
       "      (conv1): Conv2d(256, 128, kernel_size=(1, 1), stride=(1, 1), bias=False)\n",
       "      (bn1): BatchNorm2d(128, eps=1e-05, momentum=0.1, affine=True, track_running_stats=True)\n",
       "      (conv2): Conv2d(128, 128, kernel_size=(3, 3), stride=(2, 2), padding=(1, 1), bias=False)\n",
       "      (bn2): BatchNorm2d(128, eps=1e-05, momentum=0.1, affine=True, track_running_stats=True)\n",
       "      (conv3): Conv2d(128, 512, kernel_size=(1, 1), stride=(1, 1), bias=False)\n",
       "      (bn3): BatchNorm2d(512, eps=1e-05, momentum=0.1, affine=True, track_running_stats=True)\n",
       "      (relu): ReLU(inplace=True)\n",
       "      (downsample): Sequential(\n",
       "        (0): Conv2d(256, 512, kernel_size=(1, 1), stride=(2, 2), bias=False)\n",
       "        (1): BatchNorm2d(512, eps=1e-05, momentum=0.1, affine=True, track_running_stats=True)\n",
       "      )\n",
       "    )\n",
       "    (1): Bottleneck(\n",
       "      (conv1): Conv2d(512, 128, kernel_size=(1, 1), stride=(1, 1), bias=False)\n",
       "      (bn1): BatchNorm2d(128, eps=1e-05, momentum=0.1, affine=True, track_running_stats=True)\n",
       "      (conv2): Conv2d(128, 128, kernel_size=(3, 3), stride=(1, 1), padding=(1, 1), bias=False)\n",
       "      (bn2): BatchNorm2d(128, eps=1e-05, momentum=0.1, affine=True, track_running_stats=True)\n",
       "      (conv3): Conv2d(128, 512, kernel_size=(1, 1), stride=(1, 1), bias=False)\n",
       "      (bn3): BatchNorm2d(512, eps=1e-05, momentum=0.1, affine=True, track_running_stats=True)\n",
       "      (relu): ReLU(inplace=True)\n",
       "    )\n",
       "    (2): Bottleneck(\n",
       "      (conv1): Conv2d(512, 128, kernel_size=(1, 1), stride=(1, 1), bias=False)\n",
       "      (bn1): BatchNorm2d(128, eps=1e-05, momentum=0.1, affine=True, track_running_stats=True)\n",
       "      (conv2): Conv2d(128, 128, kernel_size=(3, 3), stride=(1, 1), padding=(1, 1), bias=False)\n",
       "      (bn2): BatchNorm2d(128, eps=1e-05, momentum=0.1, affine=True, track_running_stats=True)\n",
       "      (conv3): Conv2d(128, 512, kernel_size=(1, 1), stride=(1, 1), bias=False)\n",
       "      (bn3): BatchNorm2d(512, eps=1e-05, momentum=0.1, affine=True, track_running_stats=True)\n",
       "      (relu): ReLU(inplace=True)\n",
       "    )\n",
       "    (3): Bottleneck(\n",
       "      (conv1): Conv2d(512, 128, kernel_size=(1, 1), stride=(1, 1), bias=False)\n",
       "      (bn1): BatchNorm2d(128, eps=1e-05, momentum=0.1, affine=True, track_running_stats=True)\n",
       "      (conv2): Conv2d(128, 128, kernel_size=(3, 3), stride=(1, 1), padding=(1, 1), bias=False)\n",
       "      (bn2): BatchNorm2d(128, eps=1e-05, momentum=0.1, affine=True, track_running_stats=True)\n",
       "      (conv3): Conv2d(128, 512, kernel_size=(1, 1), stride=(1, 1), bias=False)\n",
       "      (bn3): BatchNorm2d(512, eps=1e-05, momentum=0.1, affine=True, track_running_stats=True)\n",
       "      (relu): ReLU(inplace=True)\n",
       "    )\n",
       "  )\n",
       "  (layer3): Sequential(\n",
       "    (0): Bottleneck(\n",
       "      (conv1): Conv2d(512, 256, kernel_size=(1, 1), stride=(1, 1), bias=False)\n",
       "      (bn1): BatchNorm2d(256, eps=1e-05, momentum=0.1, affine=True, track_running_stats=True)\n",
       "      (conv2): Conv2d(256, 256, kernel_size=(3, 3), stride=(2, 2), padding=(1, 1), bias=False)\n",
       "      (bn2): BatchNorm2d(256, eps=1e-05, momentum=0.1, affine=True, track_running_stats=True)\n",
       "      (conv3): Conv2d(256, 1024, kernel_size=(1, 1), stride=(1, 1), bias=False)\n",
       "      (bn3): BatchNorm2d(1024, eps=1e-05, momentum=0.1, affine=True, track_running_stats=True)\n",
       "      (relu): ReLU(inplace=True)\n",
       "      (downsample): Sequential(\n",
       "        (0): Conv2d(512, 1024, kernel_size=(1, 1), stride=(2, 2), bias=False)\n",
       "        (1): BatchNorm2d(1024, eps=1e-05, momentum=0.1, affine=True, track_running_stats=True)\n",
       "      )\n",
       "    )\n",
       "    (1): Bottleneck(\n",
       "      (conv1): Conv2d(1024, 256, kernel_size=(1, 1), stride=(1, 1), bias=False)\n",
       "      (bn1): BatchNorm2d(256, eps=1e-05, momentum=0.1, affine=True, track_running_stats=True)\n",
       "      (conv2): Conv2d(256, 256, kernel_size=(3, 3), stride=(1, 1), padding=(1, 1), bias=False)\n",
       "      (bn2): BatchNorm2d(256, eps=1e-05, momentum=0.1, affine=True, track_running_stats=True)\n",
       "      (conv3): Conv2d(256, 1024, kernel_size=(1, 1), stride=(1, 1), bias=False)\n",
       "      (bn3): BatchNorm2d(1024, eps=1e-05, momentum=0.1, affine=True, track_running_stats=True)\n",
       "      (relu): ReLU(inplace=True)\n",
       "    )\n",
       "    (2): Bottleneck(\n",
       "      (conv1): Conv2d(1024, 256, kernel_size=(1, 1), stride=(1, 1), bias=False)\n",
       "      (bn1): BatchNorm2d(256, eps=1e-05, momentum=0.1, affine=True, track_running_stats=True)\n",
       "      (conv2): Conv2d(256, 256, kernel_size=(3, 3), stride=(1, 1), padding=(1, 1), bias=False)\n",
       "      (bn2): BatchNorm2d(256, eps=1e-05, momentum=0.1, affine=True, track_running_stats=True)\n",
       "      (conv3): Conv2d(256, 1024, kernel_size=(1, 1), stride=(1, 1), bias=False)\n",
       "      (bn3): BatchNorm2d(1024, eps=1e-05, momentum=0.1, affine=True, track_running_stats=True)\n",
       "      (relu): ReLU(inplace=True)\n",
       "    )\n",
       "    (3): Bottleneck(\n",
       "      (conv1): Conv2d(1024, 256, kernel_size=(1, 1), stride=(1, 1), bias=False)\n",
       "      (bn1): BatchNorm2d(256, eps=1e-05, momentum=0.1, affine=True, track_running_stats=True)\n",
       "      (conv2): Conv2d(256, 256, kernel_size=(3, 3), stride=(1, 1), padding=(1, 1), bias=False)\n",
       "      (bn2): BatchNorm2d(256, eps=1e-05, momentum=0.1, affine=True, track_running_stats=True)\n",
       "      (conv3): Conv2d(256, 1024, kernel_size=(1, 1), stride=(1, 1), bias=False)\n",
       "      (bn3): BatchNorm2d(1024, eps=1e-05, momentum=0.1, affine=True, track_running_stats=True)\n",
       "      (relu): ReLU(inplace=True)\n",
       "    )\n",
       "    (4): Bottleneck(\n",
       "      (conv1): Conv2d(1024, 256, kernel_size=(1, 1), stride=(1, 1), bias=False)\n",
       "      (bn1): BatchNorm2d(256, eps=1e-05, momentum=0.1, affine=True, track_running_stats=True)\n",
       "      (conv2): Conv2d(256, 256, kernel_size=(3, 3), stride=(1, 1), padding=(1, 1), bias=False)\n",
       "      (bn2): BatchNorm2d(256, eps=1e-05, momentum=0.1, affine=True, track_running_stats=True)\n",
       "      (conv3): Conv2d(256, 1024, kernel_size=(1, 1), stride=(1, 1), bias=False)\n",
       "      (bn3): BatchNorm2d(1024, eps=1e-05, momentum=0.1, affine=True, track_running_stats=True)\n",
       "      (relu): ReLU(inplace=True)\n",
       "    )\n",
       "    (5): Bottleneck(\n",
       "      (conv1): Conv2d(1024, 256, kernel_size=(1, 1), stride=(1, 1), bias=False)\n",
       "      (bn1): BatchNorm2d(256, eps=1e-05, momentum=0.1, affine=True, track_running_stats=True)\n",
       "      (conv2): Conv2d(256, 256, kernel_size=(3, 3), stride=(1, 1), padding=(1, 1), bias=False)\n",
       "      (bn2): BatchNorm2d(256, eps=1e-05, momentum=0.1, affine=True, track_running_stats=True)\n",
       "      (conv3): Conv2d(256, 1024, kernel_size=(1, 1), stride=(1, 1), bias=False)\n",
       "      (bn3): BatchNorm2d(1024, eps=1e-05, momentum=0.1, affine=True, track_running_stats=True)\n",
       "      (relu): ReLU(inplace=True)\n",
       "    )\n",
       "  )\n",
       "  (layer4): Sequential(\n",
       "    (0): Bottleneck(\n",
       "      (conv1): Conv2d(1024, 512, kernel_size=(1, 1), stride=(1, 1), bias=False)\n",
       "      (bn1): BatchNorm2d(512, eps=1e-05, momentum=0.1, affine=True, track_running_stats=True)\n",
       "      (conv2): Conv2d(512, 512, kernel_size=(3, 3), stride=(2, 2), padding=(1, 1), bias=False)\n",
       "      (bn2): BatchNorm2d(512, eps=1e-05, momentum=0.1, affine=True, track_running_stats=True)\n",
       "      (conv3): Conv2d(512, 2048, kernel_size=(1, 1), stride=(1, 1), bias=False)\n",
       "      (bn3): BatchNorm2d(2048, eps=1e-05, momentum=0.1, affine=True, track_running_stats=True)\n",
       "      (relu): ReLU(inplace=True)\n",
       "      (downsample): Sequential(\n",
       "        (0): Conv2d(1024, 2048, kernel_size=(1, 1), stride=(2, 2), bias=False)\n",
       "        (1): BatchNorm2d(2048, eps=1e-05, momentum=0.1, affine=True, track_running_stats=True)\n",
       "      )\n",
       "    )\n",
       "    (1): Bottleneck(\n",
       "      (conv1): Conv2d(2048, 512, kernel_size=(1, 1), stride=(1, 1), bias=False)\n",
       "      (bn1): BatchNorm2d(512, eps=1e-05, momentum=0.1, affine=True, track_running_stats=True)\n",
       "      (conv2): Conv2d(512, 512, kernel_size=(3, 3), stride=(1, 1), padding=(1, 1), bias=False)\n",
       "      (bn2): BatchNorm2d(512, eps=1e-05, momentum=0.1, affine=True, track_running_stats=True)\n",
       "      (conv3): Conv2d(512, 2048, kernel_size=(1, 1), stride=(1, 1), bias=False)\n",
       "      (bn3): BatchNorm2d(2048, eps=1e-05, momentum=0.1, affine=True, track_running_stats=True)\n",
       "      (relu): ReLU(inplace=True)\n",
       "    )\n",
       "    (2): Bottleneck(\n",
       "      (conv1): Conv2d(2048, 512, kernel_size=(1, 1), stride=(1, 1), bias=False)\n",
       "      (bn1): BatchNorm2d(512, eps=1e-05, momentum=0.1, affine=True, track_running_stats=True)\n",
       "      (conv2): Conv2d(512, 512, kernel_size=(3, 3), stride=(1, 1), padding=(1, 1), bias=False)\n",
       "      (bn2): BatchNorm2d(512, eps=1e-05, momentum=0.1, affine=True, track_running_stats=True)\n",
       "      (conv3): Conv2d(512, 2048, kernel_size=(1, 1), stride=(1, 1), bias=False)\n",
       "      (bn3): BatchNorm2d(2048, eps=1e-05, momentum=0.1, affine=True, track_running_stats=True)\n",
       "      (relu): ReLU(inplace=True)\n",
       "    )\n",
       "  )\n",
       "  (avgpool): AdaptiveAvgPool2d(output_size=(1, 1))\n",
       "  (fc): Linear(in_features=2048, out_features=1000, bias=True)\n",
       ")"
      ]
     },
     "execution_count": 66,
     "metadata": {},
     "output_type": "execute_result"
    }
   ],
   "source": [
    "resnet_model.eval()"
   ]
  },
  {
   "cell_type": "code",
   "execution_count": 67,
   "metadata": {},
   "outputs": [],
   "source": [
    "img_preds = resnet_model(imgs)"
   ]
  },
  {
   "cell_type": "code",
   "execution_count": 68,
   "metadata": {},
   "outputs": [],
   "source": [
    "img_probs = np.exp(np.asarray(img_preds.detach()))\n",
    "img_probs /= img_probs.sum(1)[:, None]"
   ]
  },
  {
   "cell_type": "code",
   "execution_count": 69,
   "metadata": {},
   "outputs": [],
   "source": [
    "labs = json.load(open(\"imagenet_class_index.json\"))\n",
    "class_labels = pd.DataFrame([(int(k), v[1]) for k, v in\n",
    "                             labs.items()],\n",
    "                             columns=[\"idx\", \"label\"])\n",
    "class_labels = class_labels.set_index(\"idx\")\n",
    "class_labels = class_labels.sort_index()"
   ]
  },
  {
   "cell_type": "code",
   "execution_count": 70,
   "metadata": {},
   "outputs": [
    {
     "name": "stdout",
     "output_type": "stream",
     "text": [
      "Image: book_images/Cape_Weaver.jpg\n",
      "       label      prob\n",
      "0    jacamar  0.278434\n",
      "1  bee_eater  0.047995\n",
      "2     bulbul  0.039502\n",
      "Image: book_images/Hawk_Fountain.jpg\n",
      "            label      prob\n",
      "0  great_grey_owl  0.281774\n",
      "1            kite  0.042421\n",
      "2        fountain  0.029358\n",
      "Image: book_images/Hawk_cropped.jpg\n",
      "    label      prob\n",
      "0    kite  0.297028\n",
      "1     jay  0.125653\n",
      "2  magpie  0.015670\n",
      "Image: book_images/Lhasa_Apso.jpg\n",
      "             label      prob\n",
      "0            Lhasa  0.150388\n",
      "1         Shih-Tzu  0.129438\n",
      "2  Tibetan_terrier  0.103615\n",
      "Image: book_images/Sleeping_Cat.jpg\n",
      "       label      prob\n",
      "0      tabby  0.172462\n",
      "1  tiger_cat  0.110840\n",
      "2    doormat  0.089069\n"
     ]
    }
   ],
   "source": [
    "for i, imgfile in enumerate(imgfiles):\n",
    "    img_df = class_labels.copy()\n",
    "    img_df[\"prob\"] = img_probs[i]\n",
    "    img_df = img_df.sort_values(by=\"prob\", ascending=False)[:3]\n",
    "    print(f\"Image: {imgfile}\")\n",
    "    print(img_df.reset_index().drop(columns=[\"idx\"]))"
   ]
  },
  {
   "cell_type": "code",
   "execution_count": 71,
   "metadata": {},
   "outputs": [],
   "source": [
    "del(cifar_test,\n",
    "    cifar_train,\n",
    "    cifar_dm,\n",
    "    cifar_module,\n",
    "    cifar_logger,\n",
    "    cifar_optimizer,\n",
    "    cifar_trainer)"
   ]
  },
  {
   "cell_type": "markdown",
   "metadata": {},
   "source": [
    "## 10.9.5 IMDB Document Classification"
   ]
  },
  {
   "cell_type": "code",
   "execution_count": 72,
   "metadata": {},
   "outputs": [
    {
     "data": {
      "text/plain": [
       "array([   1,   14,   22,   16,   43,  530,  973, 1622, 1385,   65,  458,\n",
       "       4468], dtype=int32)"
      ]
     },
     "execution_count": 72,
     "metadata": {},
     "output_type": "execute_result"
    }
   ],
   "source": [
    "(imdb_seq_train,\n",
    " imdb_seq_test) = load_sequential(root=\"data/IMDB\")\n",
    "padded_sample = np.asarray(imdb_seq_train.tensors[0][0])\n",
    "sample_review = padded_sample[padded_sample > 0][:12]\n",
    "sample_review[:12]"
   ]
  },
  {
   "cell_type": "code",
   "execution_count": 73,
   "metadata": {},
   "outputs": [
    {
     "data": {
      "text/plain": [
       "\"<START> this film was just brilliant casting location scenery story direction everyone's\""
      ]
     },
     "execution_count": 73,
     "metadata": {},
     "output_type": "execute_result"
    }
   ],
   "source": [
    "lookup = load_lookup(root=\"data/IMDB\")\n",
    "\" \".join(lookup[i] for i in sample_review)"
   ]
  },
  {
   "cell_type": "code",
   "execution_count": 74,
   "metadata": {},
   "outputs": [],
   "source": [
    "max_workers = 10\n",
    "(imdb_train,\n",
    " imdb_test) = load_tensor(root=\"data/IMDB\")\n",
    "imdb_dm = SimpleDataModule(imdb_train,\n",
    "                           imdb_test,\n",
    "                           validation=2000,\n",
    "                           num_workers=min(6, max_workers),\n",
    "                           batch_size=512)"
   ]
  },
  {
   "cell_type": "code",
   "execution_count": 75,
   "metadata": {},
   "outputs": [],
   "source": [
    "class IMDBModel(nn.Module):\n",
    "    def __init__(self, input_size):\n",
    "        super().__init__()\n",
    "        self.dense1 = nn.Linear(input_size, 16)\n",
    "        self.activation = nn.ReLU()\n",
    "        self.dense2 = nn.Linear(16, 16)\n",
    "        self.output = nn.Linear(16, 1)\n",
    "    def forward(self, x):\n",
    "        val = x\n",
    "        for _map in [self.dense1,\n",
    "                     self.activation,\n",
    "                     self.dense2,\n",
    "                     self.activation,\n",
    "                     self.output]:\n",
    "            val = _map(val)\n",
    "        return torch.flatten(val)"
   ]
  },
  {
   "cell_type": "code",
   "execution_count": 76,
   "metadata": {},
   "outputs": [
    {
     "data": {
      "text/plain": [
       "===================================================================================================================\n",
       "Layer (type:depth-idx)                   Input Shape               Output Shape              Param #\n",
       "===================================================================================================================\n",
       "IMDBModel                                [25000, 10003]            [25000]                   --\n",
       "├─Linear: 1-1                            [25000, 10003]            [25000, 16]               160,064\n",
       "├─ReLU: 1-2                              [25000, 16]               [25000, 16]               --\n",
       "├─Linear: 1-3                            [25000, 16]               [25000, 16]               272\n",
       "├─ReLU: 1-4                              [25000, 16]               [25000, 16]               --\n",
       "├─Linear: 1-5                            [25000, 16]               [25000, 1]                17\n",
       "===================================================================================================================\n",
       "Total params: 160,353\n",
       "Trainable params: 160,353\n",
       "Non-trainable params: 0\n",
       "Total mult-adds (G): 4.01\n",
       "===================================================================================================================\n",
       "Input size (MB): 1000.30\n",
       "Forward/backward pass size (MB): 6.60\n",
       "Params size (MB): 0.64\n",
       "Estimated Total Size (MB): 1007.54\n",
       "==================================================================================================================="
      ]
     },
     "execution_count": 76,
     "metadata": {},
     "output_type": "execute_result"
    }
   ],
   "source": [
    "imdb_model = IMDBModel(imdb_test.tensors[0].size()[1])\n",
    "summary(imdb_model,\n",
    "        input_size=imdb_test.tensors[0].size(),\n",
    "        col_names=[\"input_size\",\n",
    "                   \"output_size\",\n",
    "                   \"num_params\"])"
   ]
  },
  {
   "cell_type": "code",
   "execution_count": 77,
   "metadata": {},
   "outputs": [],
   "source": [
    "imdb_optimizer = RMSprop(imdb_model.parameters(), lr=0.001)\n",
    "imdb_module = SimpleModule.binary_classification(imdb_model,\n",
    "                                                 optimizer=imdb_optimizer)"
   ]
  },
  {
   "cell_type": "code",
   "execution_count": 78,
   "metadata": {},
   "outputs": [
    {
     "name": "stderr",
     "output_type": "stream",
     "text": [
      "GPU available: True (cuda), used: True\n",
      "TPU available: False, using: 0 TPU cores\n",
      "IPU available: False, using: 0 IPUs\n",
      "HPU available: False, using: 0 HPUs\n",
      "LOCAL_RANK: 0 - CUDA_VISIBLE_DEVICES: [0]\n",
      "\n",
      "  | Name  | Type              | Params\n",
      "--------------------------------------------\n",
      "0 | model | IMDBModel         | 160 K \n",
      "1 | loss  | BCEWithLogitsLoss | 0     \n",
      "--------------------------------------------\n",
      "160 K     Trainable params\n",
      "0         Non-trainable params\n",
      "160 K     Total params\n",
      "0.641     Total estimated model params size (MB)\n"
     ]
    },
    {
     "name": "stdout",
     "output_type": "stream",
     "text": [
      "                                                                            \r"
     ]
    },
    {
     "name": "stderr",
     "output_type": "stream",
     "text": [
      "/home/adarsh/.pyenv/versions/3.10.12/envs/islp/lib/python3.10/site-packages/pytorch_lightning/loops/fit_loop.py:293: The number of training batches (45) is smaller than the logging interval Trainer(log_every_n_steps=50). Set a lower value for log_every_n_steps if you want to see logs for the training epoch.\n"
     ]
    },
    {
     "name": "stdout",
     "output_type": "stream",
     "text": [
      "Epoch 29: 100%|██████████| 45/45 [00:01<00:00, 40.21it/s, v_num=2]"
     ]
    },
    {
     "name": "stderr",
     "output_type": "stream",
     "text": [
      "`Trainer.fit` stopped: `max_epochs=30` reached.\n"
     ]
    },
    {
     "name": "stdout",
     "output_type": "stream",
     "text": [
      "Epoch 29: 100%|██████████| 45/45 [00:01<00:00, 39.59it/s, v_num=2]\n"
     ]
    }
   ],
   "source": [
    "imdb_logger = CSVLogger(\"logs\", name=\"IMDB\")\n",
    "imdb_trainer = Trainer(max_epochs=30,\n",
    "                       logger=imdb_logger,\n",
    "                       callbacks=[ErrorTracker()])\n",
    "imdb_trainer.fit(imdb_module,\n",
    "                 datamodule=imdb_dm)"
   ]
  },
  {
   "cell_type": "code",
   "execution_count": 79,
   "metadata": {},
   "outputs": [
    {
     "name": "stderr",
     "output_type": "stream",
     "text": [
      "LOCAL_RANK: 0 - CUDA_VISIBLE_DEVICES: [0]\n"
     ]
    },
    {
     "name": "stdout",
     "output_type": "stream",
     "text": [
      "Testing DataLoader 0: 100%|██████████| 49/49 [00:00<00:00, 55.63it/s]\n",
      "────────────────────────────────────────────────────────────────────────────────────────────────────────────────────────\n",
      "       Test metric             DataLoader 0\n",
      "────────────────────────────────────────────────────────────────────────────────────────────────────────────────────────\n",
      "      test_accuracy         0.8450000286102295\n",
      "        test_loss           1.0232608318328857\n",
      "────────────────────────────────────────────────────────────────────────────────────────────────────────────────────────\n"
     ]
    },
    {
     "data": {
      "text/plain": [
       "[{'test_loss': 1.0232608318328857, 'test_accuracy': 0.8450000286102295}]"
      ]
     },
     "execution_count": 79,
     "metadata": {},
     "output_type": "execute_result"
    }
   ],
   "source": [
    "test_results = imdb_trainer.test(imdb_module, datamodule=imdb_dm)\n",
    "test_results"
   ]
  },
  {
   "cell_type": "markdown",
   "metadata": {},
   "source": [
    "### Comparison to Lasso"
   ]
  },
  {
   "cell_type": "code",
   "execution_count": 80,
   "metadata": {},
   "outputs": [],
   "source": [
    "((X_train, Y_train),\n",
    " (X_valid, Y_valid),\n",
    " (X_test, Y_test)) = load_sparse(validation=2000,\n",
    "                                 random_state=0,\n",
    "                                 root=\"data/IMDB\")"
   ]
  },
  {
   "cell_type": "code",
   "execution_count": 81,
   "metadata": {},
   "outputs": [],
   "source": [
    "lam_max = np.abs(X_train.T * (Y_train - Y_train.mean())).max()\n",
    "lam_val = lam_max * np.exp(np.linspace(np.log(1),\n",
    "                                       np.log(1e-4), 50))"
   ]
  },
  {
   "cell_type": "code",
   "execution_count": 82,
   "metadata": {},
   "outputs": [],
   "source": [
    "logit = LogisticRegression(penalty=\"l1\",\n",
    "                           C=1/lam_max,\n",
    "                           solver=\"liblinear\",\n",
    "                           warm_start=True,\n",
    "                           fit_intercept=True)"
   ]
  },
  {
   "cell_type": "code",
   "execution_count": 83,
   "metadata": {},
   "outputs": [],
   "source": [
    "coefs = []\n",
    "intercepts = []\n",
    "for l in lam_val:\n",
    "    logit.C = 1/l\n",
    "    logit.fit(X_train, Y_train)\n",
    "    coefs.append(logit.coef_.copy())\n",
    "    intercepts.append(logit.intercept_)"
   ]
  },
  {
   "cell_type": "code",
   "execution_count": 84,
   "metadata": {},
   "outputs": [],
   "source": [
    "coefs = np.squeeze(coefs)\n",
    "intercepts = np.squeeze(intercepts)"
   ]
  },
  {
   "cell_type": "code",
   "execution_count": 85,
   "metadata": {},
   "outputs": [],
   "source": [
    "%%capture\n",
    "fig, axes = subplots(1, 2, figsize=(16, 8), sharey=True)\n",
    "for ((X_, Y_),\n",
    "    data_,\n",
    "    color) in zip([(X_train, Y_train),\n",
    "                    (X_valid, Y_valid),\n",
    "                    (X_test, Y_test)],\n",
    "                    [\"Training\", \"Validation\", \"Test\"],\n",
    "                    [\"black\", \"red\", \"blue\"]):\n",
    "    linpred_ = X_ * coefs.T + intercepts[None, :]\n",
    "    label_ = np.array(linpred_ > 0)\n",
    "    accuracy_ = np.array([np.mean(Y_ == l) for l in label_.T])\n",
    "    axes[0].plot(-np.log(lam_val / X_train.shape[0]),\n",
    "                 accuracy_,\n",
    "                 \".--\",\n",
    "                 color=color,\n",
    "                 markersize=13,\n",
    "                 linewidth=2,\n",
    "                 label=data_)\n",
    "axes[0].legend()\n",
    "axes[0].set_xlabel(r\"$-\\log(\\lambda)$\", fontsize=20)\n",
    "axes[0].set_ylabel(\"Accuracy\", fontsize=20)"
   ]
  },
  {
   "cell_type": "code",
   "execution_count": 86,
   "metadata": {},
   "outputs": [
    {
     "data": {
      "image/png": "[encoded data removed]",
      "text/plain": [
       "<Figure size 1600x800 with 2 Axes>"
      ]
     },
     "execution_count": 86,
     "metadata": {},
     "output_type": "execute_result"
    }
   ],
   "source": [
    "imdb_results = pd.read_csv(imdb_logger.experiment.metrics_file_path)\n",
    "summary_plot(imdb_results,\n",
    "             axes[1],\n",
    "             col=\"accuracy\",\n",
    "             ylabel=\"Accuracy\")\n",
    "axes[1].set_xticks(np.linspace(0, 30, 7).astype(int))\n",
    "axes[1].set_ylabel(\"Accuracy\", fontsize=20)\n",
    "axes[1].set_xlabel(\"Epoch\", fontsize=20)\n",
    "axes[1].axhline(test_results[0][\"test_accuracy\"],\n",
    "                color=\"blue\",\n",
    "                linestyle=\"--\",\n",
    "                linewidth=3)\n",
    "fig"
   ]
  },
  {
   "cell_type": "code",
   "execution_count": 87,
   "metadata": {},
   "outputs": [],
   "source": [
    "del(imdb_model,\n",
    "    imdb_trainer,\n",
    "    imdb_logger,\n",
    "    imdb_dm,\n",
    "    imdb_train,\n",
    "    imdb_test)"
   ]
  },
  {
   "cell_type": "markdown",
   "metadata": {},
   "source": [
    "## 10.9.6 Recurrent Neural Networks"
   ]
  },
  {
   "cell_type": "markdown",
   "metadata": {},
   "source": [
    "### Sequential Models for Document Classification"
   ]
  },
  {
   "cell_type": "code",
   "execution_count": 88,
   "metadata": {},
   "outputs": [],
   "source": [
    "imdb_seq_dm = SimpleDataModule(imdb_seq_train,\n",
    "                               imdb_seq_test,\n",
    "                               validation=2000,\n",
    "                               batch_size=300,\n",
    "                               num_workers=min(6, max_workers))"
   ]
  },
  {
   "cell_type": "code",
   "execution_count": 89,
   "metadata": {},
   "outputs": [],
   "source": [
    "class LSTMModel(nn.Module):\n",
    "    def __init__(self, input_size):\n",
    "        super().__init__()\n",
    "        self.embedding = nn.Embedding(input_size, 32)\n",
    "        self.lstm = nn.LSTM(input_size=32,\n",
    "                            hidden_size=32,\n",
    "                            batch_first=True)\n",
    "        self.dense = nn.Linear(32, 1)\n",
    "    def forward(self, x):\n",
    "        val, (h_n, c_n) = self.lstm(self.embedding(x))\n",
    "        return torch.flatten(self.dense(val[:, -1]))"
   ]
  },
  {
   "cell_type": "code",
   "execution_count": 90,
   "metadata": {},
   "outputs": [
    {
     "data": {
      "text/plain": [
       "===================================================================================================================\n",
       "Layer (type:depth-idx)                   Input Shape               Output Shape              Param #\n",
       "===================================================================================================================\n",
       "LSTMModel                                [10, 500]                 [10]                      --\n",
       "├─Embedding: 1-1                         [10, 500]                 [10, 500, 32]             320,096\n",
       "├─LSTM: 1-2                              [10, 500, 32]             [10, 500, 32]             8,448\n",
       "├─Linear: 1-3                            [10, 32]                  [10, 1]                   33\n",
       "===================================================================================================================\n",
       "Total params: 328,577\n",
       "Trainable params: 328,577\n",
       "Non-trainable params: 0\n",
       "Total mult-adds (M): 45.44\n",
       "===================================================================================================================\n",
       "Input size (MB): 50.00\n",
       "Forward/backward pass size (MB): 2.56\n",
       "Params size (MB): 1.31\n",
       "Estimated Total Size (MB): 53.87\n",
       "==================================================================================================================="
      ]
     },
     "execution_count": 90,
     "metadata": {},
     "output_type": "execute_result"
    }
   ],
   "source": [
    "lstm_model = LSTMModel(X_test.shape[-1])\n",
    "summary(lstm_model,\n",
    "        input_data=imdb_seq_train.tensors[0][:10],\n",
    "        col_names=[\"input_size\",\n",
    "                   \"output_size\",\n",
    "                   \"num_params\"])"
   ]
  },
  {
   "cell_type": "code",
   "execution_count": 91,
   "metadata": {},
   "outputs": [],
   "source": [
    "lstm_module = SimpleModule.binary_classification(lstm_model)\n",
    "lstm_logger = CSVLogger(\"logs\", name=\"IMDB_LSTM\")"
   ]
  },
  {
   "cell_type": "code",
   "execution_count": 92,
   "metadata": {},
   "outputs": [
    {
     "name": "stderr",
     "output_type": "stream",
     "text": [
      "GPU available: True (cuda), used: True\n",
      "TPU available: False, using: 0 TPU cores\n",
      "IPU available: False, using: 0 IPUs\n",
      "HPU available: False, using: 0 HPUs\n"
     ]
    },
    {
     "name": "stderr",
     "output_type": "stream",
     "text": [
      "LOCAL_RANK: 0 - CUDA_VISIBLE_DEVICES: [0]\n",
      "\n",
      "  | Name  | Type              | Params\n",
      "--------------------------------------------\n",
      "0 | model | LSTMModel         | 328 K \n",
      "1 | loss  | BCEWithLogitsLoss | 0     \n",
      "--------------------------------------------\n",
      "328 K     Trainable params\n",
      "0         Non-trainable params\n",
      "328 K     Total params\n",
      "1.314     Total estimated model params size (MB)\n"
     ]
    },
    {
     "name": "stdout",
     "output_type": "stream",
     "text": [
      "Epoch 19: 100%|██████████| 77/77 [00:01<00:00, 65.31it/s, v_num=1]          "
     ]
    },
    {
     "name": "stderr",
     "output_type": "stream",
     "text": [
      "`Trainer.fit` stopped: `max_epochs=20` reached.\n"
     ]
    },
    {
     "name": "stdout",
     "output_type": "stream",
     "text": [
      "Epoch 19: 100%|██████████| 77/77 [00:01<00:00, 64.07it/s, v_num=1]\n"
     ]
    }
   ],
   "source": [
    "lstm_trainer = Trainer(max_epochs=20,\n",
    "                       logger=lstm_logger,\n",
    "                       callbacks=[ErrorTracker()])\n",
    "lstm_trainer.fit(lstm_module,\n",
    "                 datamodule=imdb_seq_dm)"
   ]
  },
  {
   "cell_type": "code",
   "execution_count": 93,
   "metadata": {},
   "outputs": [
    {
     "name": "stderr",
     "output_type": "stream",
     "text": [
      "LOCAL_RANK: 0 - CUDA_VISIBLE_DEVICES: [0]\n"
     ]
    },
    {
     "name": "stdout",
     "output_type": "stream",
     "text": [
      "Testing DataLoader 0: 100%|██████████| 84/84 [00:00<00:00, 139.38it/s]\n",
      "────────────────────────────────────────────────────────────────────────────────────────────────────────────────────────\n",
      "       Test metric             DataLoader 0\n",
      "────────────────────────────────────────────────────────────────────────────────────────────────────────────────────────\n",
      "      test_accuracy         0.8302800059318542\n",
      "        test_loss           0.6568052768707275\n",
      "────────────────────────────────────────────────────────────────────────────────────────────────────────────────────────\n"
     ]
    },
    {
     "data": {
      "text/plain": [
       "[{'test_loss': 0.6568052768707275, 'test_accuracy': 0.8302800059318542}]"
      ]
     },
     "execution_count": 93,
     "metadata": {},
     "output_type": "execute_result"
    }
   ],
   "source": [
    "lstm_trainer.test(lstm_module, datamodule=imdb_seq_dm)"
   ]
  },
  {
   "cell_type": "code",
   "execution_count": 94,
   "metadata": {},
   "outputs": [
    {
     "data": {
      "text/plain": [
       "(0.5, 1.0)"
      ]
     },
     "execution_count": 94,
     "metadata": {},
     "output_type": "execute_result"
    },
    {
     "data": {
      "image/png": "[encoded data removed]",
      "text/plain": [
       "<Figure size 600x600 with 1 Axes>"
      ]
     },
     "metadata": {},
     "output_type": "display_data"
    }
   ],
   "source": [
    "lstm_results = pd.read_csv(lstm_logger.experiment.metrics_file_path)\n",
    "fig, ax = subplots(1, 1, figsize=(6, 6))\n",
    "summary_plot(lstm_results,\n",
    "             ax,\n",
    "             col=\"accuracy\",\n",
    "             ylabel=\"Accuracy\")\n",
    "ax.set_xticks(np.linspace(0, 20, 5).astype(int))\n",
    "ax.set_ylabel(\"Accuracy\")\n",
    "ax.set_ylim([0.5, 1])"
   ]
  },
  {
   "cell_type": "code",
   "execution_count": 95,
   "metadata": {},
   "outputs": [],
   "source": [
    "del(lstm_model,\n",
    "    lstm_trainer,\n",
    "    lstm_logger,\n",
    "    imdb_seq_dm,\n",
    "    imdb_seq_train,\n",
    "    imdb_seq_test)"
   ]
  },
  {
   "cell_type": "markdown",
   "metadata": {},
   "source": [
    "### Time Series Prediction"
   ]
  },
  {
   "cell_type": "code",
   "execution_count": 96,
   "metadata": {},
   "outputs": [],
   "source": [
    "NYSE = load_data(\"NYSE\")\n",
    "cols = [\"DJ_return\", \"log_volume\", \"log_volatility\"]\n",
    "X = pd.DataFrame(StandardScaler(\n",
    "    with_mean=True,\n",
    "    with_std=True\n",
    ").fit_transform(NYSE[cols]),\n",
    "columns=NYSE[cols].columns,\n",
    "index=NYSE.index)"
   ]
  },
  {
   "cell_type": "code",
   "execution_count": 97,
   "metadata": {},
   "outputs": [],
   "source": [
    "for lag in range(1, 6):\n",
    "    for col in cols:\n",
    "        newcol = np.zeros(X.shape[0]) * np.nan\n",
    "        newcol[lag:] = X[col].values[:-lag]\n",
    "        X.insert(len(X.columns), \"{0}_{1}\".format(col, lag), newcol)\n",
    "X.insert(len(X.columns), \"train\", NYSE[\"train\"])\n",
    "X = X.dropna()"
   ]
  },
  {
   "cell_type": "code",
   "execution_count": 98,
   "metadata": {},
   "outputs": [
    {
     "data": {
      "text/plain": [
       "Index(['DJ_return_1', 'log_volume_1', 'log_volatility_1', 'DJ_return_2',\n",
       "       'log_volume_2', 'log_volatility_2', 'DJ_return_3', 'log_volume_3',\n",
       "       'log_volatility_3', 'DJ_return_4', 'log_volume_4', 'log_volatility_4',\n",
       "       'DJ_return_5', 'log_volume_5', 'log_volatility_5'],\n",
       "      dtype='object')"
      ]
     },
     "execution_count": 98,
     "metadata": {},
     "output_type": "execute_result"
    }
   ],
   "source": [
    "Y, train = X[\"log_volume\"], X[\"train\"]\n",
    "X = X.drop(columns=[\"train\"] + cols)\n",
    "X.columns"
   ]
  },
  {
   "cell_type": "code",
   "execution_count": 99,
   "metadata": {},
   "outputs": [
    {
     "data": {
      "text/plain": [
       "0.4128912938562521"
      ]
     },
     "execution_count": 99,
     "metadata": {},
     "output_type": "execute_result"
    }
   ],
   "source": [
    "M = LinearRegression()\n",
    "M.fit(X[train], Y[train])\n",
    "M.score(X[~train], Y[~train])"
   ]
  },
  {
   "cell_type": "code",
   "execution_count": 100,
   "metadata": {},
   "outputs": [],
   "source": [
    "X_day = pd.merge(X,\n",
    "                 pd.get_dummies(NYSE[\"day_of_week\"]),\n",
    "                 on=\"date\")"
   ]
  },
  {
   "cell_type": "code",
   "execution_count": 101,
   "metadata": {},
   "outputs": [
    {
     "data": {
      "text/plain": [
       "0.4595563133053274"
      ]
     },
     "execution_count": 101,
     "metadata": {},
     "output_type": "execute_result"
    }
   ],
   "source": [
    "M.fit(X_day[train], Y[train])\n",
    "M.score(X_day[~train], Y[~train])"
   ]
  },
  {
   "cell_type": "code",
   "execution_count": 102,
   "metadata": {},
   "outputs": [
    {
     "data": {
      "text/plain": [
       "Index(['DJ_return_5', 'log_volume_5', 'log_volatility_5', 'DJ_return_4',\n",
       "       'log_volume_4', 'log_volatility_4', 'DJ_return_3', 'log_volume_3',\n",
       "       'log_volatility_3', 'DJ_return_2', 'log_volume_2', 'log_volatility_2',\n",
       "       'DJ_return_1', 'log_volume_1', 'log_volatility_1'],\n",
       "      dtype='object')"
      ]
     },
     "execution_count": 102,
     "metadata": {},
     "output_type": "execute_result"
    }
   ],
   "source": [
    "ordered_cols = []\n",
    "for lag in range(5, 0, -1):\n",
    "    for col in cols:\n",
    "        ordered_cols.append(\"{0}_{1}\".format(col, lag))\n",
    "X = X.reindex(columns=ordered_cols)\n",
    "X.columns"
   ]
  },
  {
   "cell_type": "code",
   "execution_count": 103,
   "metadata": {},
   "outputs": [
    {
     "data": {
      "text/plain": [
       "(6046, 5, 3)"
      ]
     },
     "execution_count": 103,
     "metadata": {},
     "output_type": "execute_result"
    }
   ],
   "source": [
    "X_rnn = X.to_numpy().reshape((-1, 5, 3))\n",
    "X_rnn.shape"
   ]
  },
  {
   "cell_type": "code",
   "execution_count": 104,
   "metadata": {},
   "outputs": [],
   "source": [
    "class NYSEModel(nn.Module):\n",
    "    def __init__(self):\n",
    "        super().__init__()\n",
    "        self.rnn = nn.RNN(3,\n",
    "                          12,\n",
    "                          batch_first = True)\n",
    "        self.dense = nn.Linear(12, 1)\n",
    "        self.dropout = nn.Dropout(0.1)\n",
    "    def forward(self, x):\n",
    "        val, h_n = self.rnn(x)\n",
    "        val = self.dense(self.dropout(val[:, -1]))\n",
    "        return torch.flatten(val)\n",
    "\n",
    "nyse_model = NYSEModel()"
   ]
  },
  {
   "cell_type": "code",
   "execution_count": 105,
   "metadata": {},
   "outputs": [],
   "source": [
    "datasets = []\n",
    "for mask in[train, ~train]:\n",
    "    X_rnn_t = torch.tensor(X_rnn[mask].astype(np.float32))\n",
    "    Y_t = torch.tensor(Y[mask].astype(np.float32))\n",
    "    datasets.append(TensorDataset(X_rnn_t, Y_t))\n",
    "nyse_train, nyse_test = datasets"
   ]
  },
  {
   "cell_type": "code",
   "execution_count": 106,
   "metadata": {},
   "outputs": [
    {
     "data": {
      "text/plain": [
       "===================================================================================================================\n",
       "Layer (type:depth-idx)                   Input Shape               Output Shape              Param #\n",
       "===================================================================================================================\n",
       "NYSEModel                                [1770, 5, 3]              [1770]                    --\n",
       "├─RNN: 1-1                               [1770, 5, 3]              [1770, 5, 12]             204\n",
       "├─Dropout: 1-2                           [1770, 12]                [1770, 12]                --\n",
       "├─Linear: 1-3                            [1770, 12]                [1770, 1]                 13\n",
       "===================================================================================================================\n",
       "Total params: 217\n",
       "Trainable params: 217\n",
       "Non-trainable params: 0\n",
       "Total mult-adds (M): 1.83\n",
       "===================================================================================================================\n",
       "Input size (MB): 0.11\n",
       "Forward/backward pass size (MB): 0.86\n",
       "Params size (MB): 0.00\n",
       "Estimated Total Size (MB): 0.97\n",
       "==================================================================================================================="
      ]
     },
     "execution_count": 106,
     "metadata": {},
     "output_type": "execute_result"
    }
   ],
   "source": [
    "summary(nyse_model,\n",
    "        input_data=X_rnn_t,\n",
    "        col_names=[\"input_size\",\n",
    "                   \"output_size\",\n",
    "                   \"num_params\"])"
   ]
  },
  {
   "cell_type": "code",
   "execution_count": 107,
   "metadata": {},
   "outputs": [],
   "source": [
    "nyse_dm = SimpleDataModule(nyse_train,\n",
    "                           nyse_test,\n",
    "                           num_workers=min(4, max_workers),\n",
    "                           validation=nyse_test,\n",
    "                           batch_size=64)"
   ]
  },
  {
   "cell_type": "code",
   "execution_count": 108,
   "metadata": {},
   "outputs": [
    {
     "name": "stdout",
     "output_type": "stream",
     "text": [
      "torch.Size([64]) torch.Size([64])\n",
      "torch.Size([64]) torch.Size([64])\n",
      "torch.Size([64]) torch.Size([64])\n"
     ]
    }
   ],
   "source": [
    "for idx, (x, y) in enumerate(nyse_dm.train_dataloader()):\n",
    "    out = nyse_model(x)\n",
    "    print(y.size(), out.size())\n",
    "    if idx >= 2:\n",
    "        break"
   ]
  },
  {
   "cell_type": "code",
   "execution_count": 109,
   "metadata": {},
   "outputs": [],
   "source": [
    "nyse_optimizer = RMSprop(nyse_model.parameters(),\n",
    "                         lr=0.001)\n",
    "nyse_module = SimpleModule.regression(nyse_model,\n",
    "                                      optimizer=nyse_optimizer,\n",
    "                                      metrics={\"r2\": R2Score()})"
   ]
  },
  {
   "cell_type": "code",
   "execution_count": 110,
   "metadata": {},
   "outputs": [
    {
     "name": "stderr",
     "output_type": "stream",
     "text": [
      "GPU available: True (cuda), used: True\n",
      "TPU available: False, using: 0 TPU cores\n",
      "IPU available: False, using: 0 IPUs\n",
      "HPU available: False, using: 0 HPUs\n",
      "LOCAL_RANK: 0 - CUDA_VISIBLE_DEVICES: [0]\n",
      "\n",
      "  | Name  | Type      | Params\n",
      "------------------------------------\n",
      "0 | model | NYSEModel | 217   \n",
      "1 | loss  | MSELoss   | 0     \n",
      "------------------------------------\n",
      "217       Trainable params\n",
      "0         Non-trainable params\n",
      "217       Total params\n",
      "0.001     Total estimated model params size (MB)\n"
     ]
    },
    {
     "name": "stdout",
     "output_type": "stream",
     "text": [
      "Epoch 199: 100%|██████████| 67/67 [00:01<00:00, 57.43it/s, v_num=5]         "
     ]
    },
    {
     "name": "stderr",
     "output_type": "stream",
     "text": [
      "`Trainer.fit` stopped: `max_epochs=200` reached.\n"
     ]
    },
    {
     "name": "stdout",
     "output_type": "stream",
     "text": [
      "Epoch 199: 100%|██████████| 67/67 [00:01<00:00, 56.98it/s, v_num=5]\n"
     ]
    },
    {
     "name": "stderr",
     "output_type": "stream",
     "text": [
      "LOCAL_RANK: 0 - CUDA_VISIBLE_DEVICES: [0]\n"
     ]
    },
    {
     "name": "stdout",
     "output_type": "stream",
     "text": [
      "Testing DataLoader 0: 100%|██████████| 28/28 [00:00<00:00, 212.10it/s]\n",
      "────────────────────────────────────────────────────────────────────────────────────────────────────────────────────────\n",
      "       Test metric             DataLoader 0\n",
      "────────────────────────────────────────────────────────────────────────────────────────────────────────────────────────\n",
      "        test_loss           0.6249682307243347\n",
      "         test_r2            0.40687471628189087\n",
      "────────────────────────────────────────────────────────────────────────────────────────────────────────────────────────\n"
     ]
    },
    {
     "data": {
      "text/plain": [
       "[{'test_loss': 0.6249682307243347, 'test_r2': 0.40687471628189087}]"
      ]
     },
     "execution_count": 110,
     "metadata": {},
     "output_type": "execute_result"
    }
   ],
   "source": [
    "nyse_trainer = Trainer(max_epochs=200,\n",
    "                       callbacks=[ErrorTracker()])\n",
    "nyse_trainer.fit(nyse_module,\n",
    "                 datamodule=nyse_dm)\n",
    "nyse_trainer.test(nyse_module,\n",
    "                  datamodule=nyse_dm)"
   ]
  },
  {
   "cell_type": "code",
   "execution_count": 111,
   "metadata": {},
   "outputs": [],
   "source": [
    "datasets = []\n",
    "for mask in [train, ~train]:\n",
    "    X_day_t = torch.tensor(\n",
    "        np.asarray(X_day[mask]).astype(np.float32))\n",
    "    Y_t = torch.tensor(np.asarray(Y[mask]).astype(np.float32))\n",
    "    datasets.append(TensorDataset(X_day_t, Y_t))\n",
    "day_train, day_test = datasets"
   ]
  },
  {
   "cell_type": "code",
   "execution_count": 112,
   "metadata": {},
   "outputs": [],
   "source": [
    "day_dm = SimpleDataModule(day_train,\n",
    "                          day_test,\n",
    "                          num_workers=min(4, max_workers),\n",
    "                          validation=day_test,\n",
    "                          batch_size=64)"
   ]
  },
  {
   "cell_type": "code",
   "execution_count": 113,
   "metadata": {},
   "outputs": [],
   "source": [
    "class NonLinearARModel(nn.Module):\n",
    "    def __init__(self):\n",
    "        super().__init__()\n",
    "        self._forward = nn.Sequential(nn.Flatten(),\n",
    "                                      nn.Linear(20, 32),\n",
    "                                      nn.ReLU(),\n",
    "                                      nn.Dropout(0.5),\n",
    "                                      nn.Linear(32, 1))\n",
    "    def forward(self, x):\n",
    "        return torch.flatten(self._forward(x))"
   ]
  },
  {
   "cell_type": "code",
   "execution_count": 114,
   "metadata": {},
   "outputs": [],
   "source": [
    "nl_model = NonLinearARModel()\n",
    "nl_optimizer = RMSprop(nl_model.parameters(),\n",
    "                       lr=0.001)\n",
    "nl_module = SimpleModule.regression(nl_model,\n",
    "                                    optimizer=nl_optimizer,\n",
    "                                    metrics={'r2': R2Score()})"
   ]
  },
  {
   "cell_type": "code",
   "execution_count": 115,
   "metadata": {},
   "outputs": [
    {
     "name": "stderr",
     "output_type": "stream",
     "text": [
      "GPU available: True (cuda), used: True\n",
      "TPU available: False, using: 0 TPU cores\n",
      "IPU available: False, using: 0 IPUs\n",
      "HPU available: False, using: 0 HPUs\n",
      "LOCAL_RANK: 0 - CUDA_VISIBLE_DEVICES: [0]\n",
      "\n",
      "  | Name  | Type             | Params\n",
      "-------------------------------------------\n",
      "0 | model | NonLinearARModel | 705   \n",
      "1 | loss  | MSELoss          | 0     \n",
      "-------------------------------------------\n",
      "705       Trainable params\n",
      "0         Non-trainable params\n",
      "705       Total params\n",
      "0.003     Total estimated model params size (MB)\n"
     ]
    },
    {
     "name": "stdout",
     "output_type": "stream",
     "text": [
      "Epoch 19: 100%|██████████| 67/67 [00:00<00:00, 80.84it/s, v_num=6]          "
     ]
    },
    {
     "name": "stderr",
     "output_type": "stream",
     "text": [
      "`Trainer.fit` stopped: `max_epochs=20` reached.\n"
     ]
    },
    {
     "name": "stdout",
     "output_type": "stream",
     "text": [
      "Epoch 19: 100%|██████████| 67/67 [00:00<00:00, 80.30it/s, v_num=6]\n"
     ]
    },
    {
     "name": "stderr",
     "output_type": "stream",
     "text": [
      "LOCAL_RANK: 0 - CUDA_VISIBLE_DEVICES: [0]\n"
     ]
    },
    {
     "name": "stdout",
     "output_type": "stream",
     "text": [
      "Testing DataLoader 0: 100%|██████████| 28/28 [00:00<00:00, 282.07it/s]\n",
      "────────────────────────────────────────────────────────────────────────────────────────────────────────────────────────\n",
      "       Test metric             DataLoader 0\n",
      "────────────────────────────────────────────────────────────────────────────────────────────────────────────────────────\n",
      "        test_loss            0.562375009059906\n",
      "         test_r2            0.46627867221832275\n",
      "────────────────────────────────────────────────────────────────────────────────────────────────────────────────────────\n"
     ]
    },
    {
     "data": {
      "text/plain": [
       "[{'test_loss': 0.562375009059906, 'test_r2': 0.46627867221832275}]"
      ]
     },
     "execution_count": 115,
     "metadata": {},
     "output_type": "execute_result"
    }
   ],
   "source": [
    "nl_trainer = Trainer(max_epochs=20,\n",
    "                     callbacks=[ErrorTracker()])\n",
    "nl_trainer.fit(nl_module, datamodule=day_dm)\n",
    "nl_trainer.test(nl_module, datamodule=day_dm)"
   ]
  },
  {
   "cell_type": "code",
   "execution_count": null,
   "metadata": {},
   "outputs": [],
   "source": []
  }
 ],
 "metadata": {
  "kernelspec": {
   "display_name": "islp",
   "language": "python",
   "name": "python3"
  },
  "language_info": {
   "codemirror_mode": {
    "name": "ipython",
    "version": 3
   },
   "file_extension": ".py",
   "mimetype": "text/x-python",
   "name": "python",
   "nbconvert_exporter": "python",
   "pygments_lexer": "ipython3",
   "version": "3.10.12"
  }
 },
 "nbformat": 4,
 "nbformat_minor": 2
}
